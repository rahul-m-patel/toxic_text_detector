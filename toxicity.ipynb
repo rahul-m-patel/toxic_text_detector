{
 "cells": [
  {
   "cell_type": "code",
   "execution_count": 15,
   "metadata": {},
   "outputs": [],
   "source": [
    "import numpy as np\n",
    "import pandas as pd\n",
    "import tensorflow as tf"
   ]
  },
  {
   "cell_type": "code",
   "execution_count": 3,
   "metadata": {},
   "outputs": [
    {
     "name": "stderr",
     "output_type": "stream",
     "text": [
      "2023-07-05 18:15:09.026573: I tensorflow/core/util/port.cc:110] oneDNN custom operations are on. You may see slightly different numerical results due to floating-point round-off errors from different computation orders. To turn them off, set the environment variable `TF_ENABLE_ONEDNN_OPTS=0`.\n",
      "2023-07-05 18:15:10.426758: I tensorflow/core/platform/cpu_feature_guard.cc:182] This TensorFlow binary is optimized to use available CPU instructions in performance-critical operations.\n",
      "To enable the following instructions: AVX2 AVX512F AVX512_VNNI FMA, in other operations, rebuild TensorFlow with the appropriate compiler flags.\n",
      "2023-07-05 18:15:13.577852: W tensorflow/compiler/tf2tensorrt/utils/py_utils.cc:38] TF-TRT Warning: Could not find TensorRT\n",
      "2023-07-05 18:15:18.457390: E tensorflow/compiler/xla/stream_executor/cuda/cuda_driver.cc:266] failed call to cuInit: CUDA_ERROR_NO_DEVICE: no CUDA-capable device is detected\n",
      "2023-07-05 18:15:18.457416: I tensorflow/compiler/xla/stream_executor/cuda/cuda_diagnostics.cc:168] retrieving CUDA diagnostic information for host: gr027.hpc.nyu.edu\n",
      "2023-07-05 18:15:18.457420: I tensorflow/compiler/xla/stream_executor/cuda/cuda_diagnostics.cc:175] hostname: gr027.hpc.nyu.edu\n",
      "2023-07-05 18:15:18.457480: I tensorflow/compiler/xla/stream_executor/cuda/cuda_diagnostics.cc:199] libcuda reported version is: INVALID_ARGUMENT: expected %d.%d, %d.%d.%d, or %d.%d.%d.%d form for driver version; got \"1\"\n",
      "2023-07-05 18:15:18.457496: I tensorflow/compiler/xla/stream_executor/cuda/cuda_diagnostics.cc:203] kernel reported version is: 520.61.5\n"
     ]
    }
   ],
   "source": [
    "# !pip3 install spacy\n",
    "# !pip3 install -U spacy[cuda113]\n",
    "import spacy\n"
   ]
  },
  {
   "cell_type": "code",
   "execution_count": 6,
   "metadata": {},
   "outputs": [
    {
     "name": "stdout",
     "output_type": "stream",
     "text": [
      "2023-07-03 22:43:43.247313: W tensorflow/compiler/tf2tensorrt/utils/py_utils.cc:38] TF-TRT Warning: Could not find TensorRT\n",
      "Defaulting to user installation because normal site-packages is not writeable\n",
      "Collecting en-core-web-sm==3.5.0\n",
      "  Downloading https://github.com/explosion/spacy-models/releases/download/en_core_web_sm-3.5.0/en_core_web_sm-3.5.0-py3-none-any.whl (12.8 MB)\n",
      "\u001b[2K     \u001b[90m━━━━━━━━━━━━━━━━━━━━━━━━━━━━━━━━━━━━━━━━\u001b[0m \u001b[32m12.8/12.8 MB\u001b[0m \u001b[31m33.1 MB/s\u001b[0m eta \u001b[36m0:00:00\u001b[0m00:01\u001b[0m00:01\u001b[0m\n",
      "\u001b[?25hRequirement already satisfied: spacy<3.6.0,>=3.5.0 in /home/rp3752/.local/lib/python3.10/site-packages (from en-core-web-sm==3.5.0) (3.5.4)\n",
      "Requirement already satisfied: spacy-legacy<3.1.0,>=3.0.11 in /home/rp3752/.local/lib/python3.10/site-packages (from spacy<3.6.0,>=3.5.0->en-core-web-sm==3.5.0) (3.0.12)\n",
      "Requirement already satisfied: spacy-loggers<2.0.0,>=1.0.0 in /home/rp3752/.local/lib/python3.10/site-packages (from spacy<3.6.0,>=3.5.0->en-core-web-sm==3.5.0) (1.0.4)\n",
      "Requirement already satisfied: murmurhash<1.1.0,>=0.28.0 in /home/rp3752/.local/lib/python3.10/site-packages (from spacy<3.6.0,>=3.5.0->en-core-web-sm==3.5.0) (1.0.9)\n",
      "Requirement already satisfied: cymem<2.1.0,>=2.0.2 in /home/rp3752/.local/lib/python3.10/site-packages (from spacy<3.6.0,>=3.5.0->en-core-web-sm==3.5.0) (2.0.7)\n",
      "Requirement already satisfied: preshed<3.1.0,>=3.0.2 in /home/rp3752/.local/lib/python3.10/site-packages (from spacy<3.6.0,>=3.5.0->en-core-web-sm==3.5.0) (3.0.8)\n",
      "Requirement already satisfied: thinc<8.2.0,>=8.1.8 in /home/rp3752/.local/lib/python3.10/site-packages (from spacy<3.6.0,>=3.5.0->en-core-web-sm==3.5.0) (8.1.10)\n",
      "Requirement already satisfied: wasabi<1.2.0,>=0.9.1 in /home/rp3752/.local/lib/python3.10/site-packages (from spacy<3.6.0,>=3.5.0->en-core-web-sm==3.5.0) (1.1.2)\n",
      "Requirement already satisfied: srsly<3.0.0,>=2.4.3 in /home/rp3752/.local/lib/python3.10/site-packages (from spacy<3.6.0,>=3.5.0->en-core-web-sm==3.5.0) (2.4.6)\n",
      "Requirement already satisfied: catalogue<2.1.0,>=2.0.6 in /home/rp3752/.local/lib/python3.10/site-packages (from spacy<3.6.0,>=3.5.0->en-core-web-sm==3.5.0) (2.0.8)\n",
      "Requirement already satisfied: typer<0.10.0,>=0.3.0 in /home/rp3752/.local/lib/python3.10/site-packages (from spacy<3.6.0,>=3.5.0->en-core-web-sm==3.5.0) (0.9.0)\n",
      "Requirement already satisfied: pathy>=0.10.0 in /home/rp3752/.local/lib/python3.10/site-packages (from spacy<3.6.0,>=3.5.0->en-core-web-sm==3.5.0) (0.10.2)\n",
      "Requirement already satisfied: smart-open<7.0.0,>=5.2.1 in /home/rp3752/.local/lib/python3.10/site-packages (from spacy<3.6.0,>=3.5.0->en-core-web-sm==3.5.0) (6.3.0)\n",
      "Requirement already satisfied: tqdm<5.0.0,>=4.38.0 in /ext3/miniconda3/lib/python3.10/site-packages (from spacy<3.6.0,>=3.5.0->en-core-web-sm==3.5.0) (4.65.0)\n",
      "Requirement already satisfied: numpy>=1.15.0 in /ext3/miniconda3/lib/python3.10/site-packages (from spacy<3.6.0,>=3.5.0->en-core-web-sm==3.5.0) (1.23.5)\n",
      "Requirement already satisfied: requests<3.0.0,>=2.13.0 in /ext3/miniconda3/lib/python3.10/site-packages (from spacy<3.6.0,>=3.5.0->en-core-web-sm==3.5.0) (2.29.0)\n",
      "Requirement already satisfied: pydantic!=1.8,!=1.8.1,<1.11.0,>=1.7.4 in /home/rp3752/.local/lib/python3.10/site-packages (from spacy<3.6.0,>=3.5.0->en-core-web-sm==3.5.0) (1.10.10)\n",
      "Requirement already satisfied: jinja2 in /home/rp3752/.local/lib/python3.10/site-packages (from spacy<3.6.0,>=3.5.0->en-core-web-sm==3.5.0) (3.1.2)\n",
      "Requirement already satisfied: setuptools in /ext3/miniconda3/lib/python3.10/site-packages (from spacy<3.6.0,>=3.5.0->en-core-web-sm==3.5.0) (65.6.3)\n",
      "Requirement already satisfied: packaging>=20.0 in /ext3/miniconda3/lib/python3.10/site-packages (from spacy<3.6.0,>=3.5.0->en-core-web-sm==3.5.0) (23.0)\n",
      "Requirement already satisfied: langcodes<4.0.0,>=3.2.0 in /home/rp3752/.local/lib/python3.10/site-packages (from spacy<3.6.0,>=3.5.0->en-core-web-sm==3.5.0) (3.3.0)\n",
      "Requirement already satisfied: typing-extensions>=4.2.0 in /ext3/miniconda3/lib/python3.10/site-packages (from pydantic!=1.8,!=1.8.1,<1.11.0,>=1.7.4->spacy<3.6.0,>=3.5.0->en-core-web-sm==3.5.0) (4.7.1)\n",
      "Requirement already satisfied: charset-normalizer<4,>=2 in /ext3/miniconda3/lib/python3.10/site-packages (from requests<3.0.0,>=2.13.0->spacy<3.6.0,>=3.5.0->en-core-web-sm==3.5.0) (2.0.4)\n",
      "Requirement already satisfied: idna<4,>=2.5 in /ext3/miniconda3/lib/python3.10/site-packages (from requests<3.0.0,>=2.13.0->spacy<3.6.0,>=3.5.0->en-core-web-sm==3.5.0) (3.4)\n",
      "Requirement already satisfied: urllib3<1.27,>=1.21.1 in /ext3/miniconda3/lib/python3.10/site-packages (from requests<3.0.0,>=2.13.0->spacy<3.6.0,>=3.5.0->en-core-web-sm==3.5.0) (1.26.16)\n",
      "Requirement already satisfied: certifi>=2017.4.17 in /ext3/miniconda3/lib/python3.10/site-packages (from requests<3.0.0,>=2.13.0->spacy<3.6.0,>=3.5.0->en-core-web-sm==3.5.0) (2023.5.7)\n",
      "Requirement already satisfied: blis<0.8.0,>=0.7.8 in /home/rp3752/.local/lib/python3.10/site-packages (from thinc<8.2.0,>=8.1.8->spacy<3.6.0,>=3.5.0->en-core-web-sm==3.5.0) (0.7.9)\n",
      "Requirement already satisfied: confection<1.0.0,>=0.0.1 in /home/rp3752/.local/lib/python3.10/site-packages (from thinc<8.2.0,>=8.1.8->spacy<3.6.0,>=3.5.0->en-core-web-sm==3.5.0) (0.1.0)\n",
      "Requirement already satisfied: click<9.0.0,>=7.1.1 in /home/rp3752/.local/lib/python3.10/site-packages (from typer<0.10.0,>=0.3.0->spacy<3.6.0,>=3.5.0->en-core-web-sm==3.5.0) (8.1.3)\n",
      "Requirement already satisfied: MarkupSafe>=2.0 in /ext3/miniconda3/lib/python3.10/site-packages (from jinja2->spacy<3.6.0,>=3.5.0->en-core-web-sm==3.5.0) (2.1.3)\n",
      "Installing collected packages: en-core-web-sm\n",
      "Successfully installed en-core-web-sm-3.5.0\n",
      "\u001b[38;5;2m✔ Download and installation successful\u001b[0m\n",
      "You can now load the package via spacy.load('en_core_web_sm')\n"
     ]
    }
   ],
   "source": [
    "!python3 -m spacy download en_core_web_sm"
   ]
  },
  {
   "cell_type": "code",
   "execution_count": 7,
   "metadata": {},
   "outputs": [],
   "source": [
    "spacy.prefer_gpu()\n",
    "nlp = spacy.load(\"en_core_web_sm\")"
   ]
  },
  {
   "cell_type": "code",
   "execution_count": 15,
   "metadata": {},
   "outputs": [
    {
     "name": "stdout",
     "output_type": "stream",
     "text": [
      "Miniconda3-latest-Linux-x86_64.sh  data  overlay-15GB-500K.ext3  toxicity.ipynb\r\n"
     ]
    }
   ],
   "source": [
    "from zipfile import ZipFile\n",
    "!ls"
   ]
  },
  {
   "cell_type": "code",
   "execution_count": 16,
   "metadata": {},
   "outputs": [],
   "source": [
    "with ZipFile(\"./data/data.zip\", 'r') as zObject:\n",
    "    zObject.extractall(path=\"./data\")"
   ]
  },
  {
   "cell_type": "code",
   "execution_count": 19,
   "metadata": {},
   "outputs": [],
   "source": [
    "with ZipFile(\"./data/train.csv.zip\", 'r') as zObject:\n",
    "    zObject.extractall(path=\"./data/unzipped/train.csv\")"
   ]
  },
  {
   "cell_type": "code",
   "execution_count": 19,
   "metadata": {},
   "outputs": [
    {
     "data": {
      "text/html": [
       "<div>\n",
       "<style scoped>\n",
       "    .dataframe tbody tr th:only-of-type {\n",
       "        vertical-align: middle;\n",
       "    }\n",
       "\n",
       "    .dataframe tbody tr th {\n",
       "        vertical-align: top;\n",
       "    }\n",
       "\n",
       "    .dataframe thead th {\n",
       "        text-align: right;\n",
       "    }\n",
       "</style>\n",
       "<table border=\"1\" class=\"dataframe\">\n",
       "  <thead>\n",
       "    <tr style=\"text-align: right;\">\n",
       "      <th></th>\n",
       "      <th>id</th>\n",
       "      <th>comment_text</th>\n",
       "    </tr>\n",
       "  </thead>\n",
       "  <tbody>\n",
       "    <tr>\n",
       "      <th>0</th>\n",
       "      <td>00001cee341fdb12</td>\n",
       "      <td>Yo bitch Ja Rule is more succesful then you'll...</td>\n",
       "    </tr>\n",
       "    <tr>\n",
       "      <th>1</th>\n",
       "      <td>0000247867823ef7</td>\n",
       "      <td>== From RfC == \\n\\n The title is fine as it is...</td>\n",
       "    </tr>\n",
       "    <tr>\n",
       "      <th>2</th>\n",
       "      <td>00013b17ad220c46</td>\n",
       "      <td>\" \\n\\n == Sources == \\n\\n * Zawe Ashton on Lap...</td>\n",
       "    </tr>\n",
       "    <tr>\n",
       "      <th>3</th>\n",
       "      <td>00017563c3f7919a</td>\n",
       "      <td>:If you have a look back at the source, the in...</td>\n",
       "    </tr>\n",
       "    <tr>\n",
       "      <th>4</th>\n",
       "      <td>00017695ad8997eb</td>\n",
       "      <td>I don't anonymously edit articles at all.</td>\n",
       "    </tr>\n",
       "  </tbody>\n",
       "</table>\n",
       "</div>"
      ],
      "text/plain": [
       "                 id                                       comment_text\n",
       "0  00001cee341fdb12  Yo bitch Ja Rule is more succesful then you'll...\n",
       "1  0000247867823ef7  == From RfC == \\n\\n The title is fine as it is...\n",
       "2  00013b17ad220c46  \" \\n\\n == Sources == \\n\\n * Zawe Ashton on Lap...\n",
       "3  00017563c3f7919a  :If you have a look back at the source, the in...\n",
       "4  00017695ad8997eb          I don't anonymously edit articles at all."
      ]
     },
     "execution_count": 19,
     "metadata": {},
     "output_type": "execute_result"
    }
   ],
   "source": [
    "test_text = pd.read_csv(\"./data/unzipped/test.csv/test.csv\")\n",
    "test_text.head()"
   ]
  },
  {
   "cell_type": "code",
   "execution_count": 20,
   "metadata": {},
   "outputs": [
    {
     "data": {
      "text/html": [
       "<div>\n",
       "<style scoped>\n",
       "    .dataframe tbody tr th:only-of-type {\n",
       "        vertical-align: middle;\n",
       "    }\n",
       "\n",
       "    .dataframe tbody tr th {\n",
       "        vertical-align: top;\n",
       "    }\n",
       "\n",
       "    .dataframe thead th {\n",
       "        text-align: right;\n",
       "    }\n",
       "</style>\n",
       "<table border=\"1\" class=\"dataframe\">\n",
       "  <thead>\n",
       "    <tr style=\"text-align: right;\">\n",
       "      <th></th>\n",
       "      <th>id</th>\n",
       "      <th>toxic</th>\n",
       "      <th>severe_toxic</th>\n",
       "      <th>obscene</th>\n",
       "      <th>threat</th>\n",
       "      <th>insult</th>\n",
       "      <th>identity_hate</th>\n",
       "    </tr>\n",
       "  </thead>\n",
       "  <tbody>\n",
       "    <tr>\n",
       "      <th>0</th>\n",
       "      <td>00001cee341fdb12</td>\n",
       "      <td>-1</td>\n",
       "      <td>-1</td>\n",
       "      <td>-1</td>\n",
       "      <td>-1</td>\n",
       "      <td>-1</td>\n",
       "      <td>-1</td>\n",
       "    </tr>\n",
       "    <tr>\n",
       "      <th>1</th>\n",
       "      <td>0000247867823ef7</td>\n",
       "      <td>-1</td>\n",
       "      <td>-1</td>\n",
       "      <td>-1</td>\n",
       "      <td>-1</td>\n",
       "      <td>-1</td>\n",
       "      <td>-1</td>\n",
       "    </tr>\n",
       "    <tr>\n",
       "      <th>2</th>\n",
       "      <td>00013b17ad220c46</td>\n",
       "      <td>-1</td>\n",
       "      <td>-1</td>\n",
       "      <td>-1</td>\n",
       "      <td>-1</td>\n",
       "      <td>-1</td>\n",
       "      <td>-1</td>\n",
       "    </tr>\n",
       "    <tr>\n",
       "      <th>3</th>\n",
       "      <td>00017563c3f7919a</td>\n",
       "      <td>-1</td>\n",
       "      <td>-1</td>\n",
       "      <td>-1</td>\n",
       "      <td>-1</td>\n",
       "      <td>-1</td>\n",
       "      <td>-1</td>\n",
       "    </tr>\n",
       "    <tr>\n",
       "      <th>4</th>\n",
       "      <td>00017695ad8997eb</td>\n",
       "      <td>-1</td>\n",
       "      <td>-1</td>\n",
       "      <td>-1</td>\n",
       "      <td>-1</td>\n",
       "      <td>-1</td>\n",
       "      <td>-1</td>\n",
       "    </tr>\n",
       "  </tbody>\n",
       "</table>\n",
       "</div>"
      ],
      "text/plain": [
       "                 id  toxic  severe_toxic  obscene  threat  insult  \\\n",
       "0  00001cee341fdb12     -1            -1       -1      -1      -1   \n",
       "1  0000247867823ef7     -1            -1       -1      -1      -1   \n",
       "2  00013b17ad220c46     -1            -1       -1      -1      -1   \n",
       "3  00017563c3f7919a     -1            -1       -1      -1      -1   \n",
       "4  00017695ad8997eb     -1            -1       -1      -1      -1   \n",
       "\n",
       "   identity_hate  \n",
       "0             -1  \n",
       "1             -1  \n",
       "2             -1  \n",
       "3             -1  \n",
       "4             -1  "
      ]
     },
     "execution_count": 20,
     "metadata": {},
     "output_type": "execute_result"
    }
   ],
   "source": [
    "test_labels = pd.read_csv(\"./data/unzipped/test_labels.csv/test_labels.csv\")\n",
    "test_labels.head()"
   ]
  },
  {
   "cell_type": "code",
   "execution_count": 21,
   "metadata": {},
   "outputs": [
    {
     "data": {
      "text/html": [
       "<div>\n",
       "<style scoped>\n",
       "    .dataframe tbody tr th:only-of-type {\n",
       "        vertical-align: middle;\n",
       "    }\n",
       "\n",
       "    .dataframe tbody tr th {\n",
       "        vertical-align: top;\n",
       "    }\n",
       "\n",
       "    .dataframe thead th {\n",
       "        text-align: right;\n",
       "    }\n",
       "</style>\n",
       "<table border=\"1\" class=\"dataframe\">\n",
       "  <thead>\n",
       "    <tr style=\"text-align: right;\">\n",
       "      <th></th>\n",
       "      <th>id</th>\n",
       "      <th>comment_text</th>\n",
       "      <th>toxic</th>\n",
       "      <th>severe_toxic</th>\n",
       "      <th>obscene</th>\n",
       "      <th>threat</th>\n",
       "      <th>insult</th>\n",
       "      <th>identity_hate</th>\n",
       "    </tr>\n",
       "  </thead>\n",
       "  <tbody>\n",
       "    <tr>\n",
       "      <th>0</th>\n",
       "      <td>00001cee341fdb12</td>\n",
       "      <td>Yo bitch Ja Rule is more succesful then you'll...</td>\n",
       "      <td>-1</td>\n",
       "      <td>-1</td>\n",
       "      <td>-1</td>\n",
       "      <td>-1</td>\n",
       "      <td>-1</td>\n",
       "      <td>-1</td>\n",
       "    </tr>\n",
       "    <tr>\n",
       "      <th>1</th>\n",
       "      <td>0000247867823ef7</td>\n",
       "      <td>== From RfC == \\n\\n The title is fine as it is...</td>\n",
       "      <td>-1</td>\n",
       "      <td>-1</td>\n",
       "      <td>-1</td>\n",
       "      <td>-1</td>\n",
       "      <td>-1</td>\n",
       "      <td>-1</td>\n",
       "    </tr>\n",
       "    <tr>\n",
       "      <th>2</th>\n",
       "      <td>00013b17ad220c46</td>\n",
       "      <td>\" \\n\\n == Sources == \\n\\n * Zawe Ashton on Lap...</td>\n",
       "      <td>-1</td>\n",
       "      <td>-1</td>\n",
       "      <td>-1</td>\n",
       "      <td>-1</td>\n",
       "      <td>-1</td>\n",
       "      <td>-1</td>\n",
       "    </tr>\n",
       "    <tr>\n",
       "      <th>3</th>\n",
       "      <td>00017563c3f7919a</td>\n",
       "      <td>:If you have a look back at the source, the in...</td>\n",
       "      <td>-1</td>\n",
       "      <td>-1</td>\n",
       "      <td>-1</td>\n",
       "      <td>-1</td>\n",
       "      <td>-1</td>\n",
       "      <td>-1</td>\n",
       "    </tr>\n",
       "    <tr>\n",
       "      <th>4</th>\n",
       "      <td>00017695ad8997eb</td>\n",
       "      <td>I don't anonymously edit articles at all.</td>\n",
       "      <td>-1</td>\n",
       "      <td>-1</td>\n",
       "      <td>-1</td>\n",
       "      <td>-1</td>\n",
       "      <td>-1</td>\n",
       "      <td>-1</td>\n",
       "    </tr>\n",
       "  </tbody>\n",
       "</table>\n",
       "</div>"
      ],
      "text/plain": [
       "                 id                                       comment_text  toxic  \\\n",
       "0  00001cee341fdb12  Yo bitch Ja Rule is more succesful then you'll...     -1   \n",
       "1  0000247867823ef7  == From RfC == \\n\\n The title is fine as it is...     -1   \n",
       "2  00013b17ad220c46  \" \\n\\n == Sources == \\n\\n * Zawe Ashton on Lap...     -1   \n",
       "3  00017563c3f7919a  :If you have a look back at the source, the in...     -1   \n",
       "4  00017695ad8997eb          I don't anonymously edit articles at all.     -1   \n",
       "\n",
       "   severe_toxic  obscene  threat  insult  identity_hate  \n",
       "0            -1       -1      -1      -1             -1  \n",
       "1            -1       -1      -1      -1             -1  \n",
       "2            -1       -1      -1      -1             -1  \n",
       "3            -1       -1      -1      -1             -1  \n",
       "4            -1       -1      -1      -1             -1  "
      ]
     },
     "execution_count": 21,
     "metadata": {},
     "output_type": "execute_result"
    }
   ],
   "source": [
    "test_df = pd.merge(test_text,test_labels,on=\"id\")\n",
    "test_df.head()"
   ]
  },
  {
   "cell_type": "code",
   "execution_count": 22,
   "metadata": {},
   "outputs": [],
   "source": [
    "test_df = test_df[~(test_df[\"toxic\"]==-1)]"
   ]
  },
  {
   "cell_type": "code",
   "execution_count": 23,
   "metadata": {},
   "outputs": [
    {
     "data": {
      "text/plain": [
       "63978"
      ]
     },
     "execution_count": 23,
     "metadata": {},
     "output_type": "execute_result"
    }
   ],
   "source": [
    "len(test_df)"
   ]
  },
  {
   "cell_type": "code",
   "execution_count": 10,
   "metadata": {},
   "outputs": [
    {
     "data": {
      "text/html": [
       "<div>\n",
       "<style scoped>\n",
       "    .dataframe tbody tr th:only-of-type {\n",
       "        vertical-align: middle;\n",
       "    }\n",
       "\n",
       "    .dataframe tbody tr th {\n",
       "        vertical-align: top;\n",
       "    }\n",
       "\n",
       "    .dataframe thead th {\n",
       "        text-align: right;\n",
       "    }\n",
       "</style>\n",
       "<table border=\"1\" class=\"dataframe\">\n",
       "  <thead>\n",
       "    <tr style=\"text-align: right;\">\n",
       "      <th></th>\n",
       "      <th>id</th>\n",
       "      <th>comment_text</th>\n",
       "      <th>toxic</th>\n",
       "      <th>severe_toxic</th>\n",
       "      <th>obscene</th>\n",
       "      <th>threat</th>\n",
       "      <th>insult</th>\n",
       "      <th>identity_hate</th>\n",
       "    </tr>\n",
       "  </thead>\n",
       "  <tbody>\n",
       "    <tr>\n",
       "      <th>0</th>\n",
       "      <td>0000997932d777bf</td>\n",
       "      <td>Explanation\\nWhy the edits made under my usern...</td>\n",
       "      <td>0</td>\n",
       "      <td>0</td>\n",
       "      <td>0</td>\n",
       "      <td>0</td>\n",
       "      <td>0</td>\n",
       "      <td>0</td>\n",
       "    </tr>\n",
       "    <tr>\n",
       "      <th>1</th>\n",
       "      <td>000103f0d9cfb60f</td>\n",
       "      <td>D'aww! He matches this background colour I'm s...</td>\n",
       "      <td>0</td>\n",
       "      <td>0</td>\n",
       "      <td>0</td>\n",
       "      <td>0</td>\n",
       "      <td>0</td>\n",
       "      <td>0</td>\n",
       "    </tr>\n",
       "    <tr>\n",
       "      <th>2</th>\n",
       "      <td>000113f07ec002fd</td>\n",
       "      <td>Hey man, I'm really not trying to edit war. It...</td>\n",
       "      <td>0</td>\n",
       "      <td>0</td>\n",
       "      <td>0</td>\n",
       "      <td>0</td>\n",
       "      <td>0</td>\n",
       "      <td>0</td>\n",
       "    </tr>\n",
       "    <tr>\n",
       "      <th>3</th>\n",
       "      <td>0001b41b1c6bb37e</td>\n",
       "      <td>\"\\nMore\\nI can't make any real suggestions on ...</td>\n",
       "      <td>0</td>\n",
       "      <td>0</td>\n",
       "      <td>0</td>\n",
       "      <td>0</td>\n",
       "      <td>0</td>\n",
       "      <td>0</td>\n",
       "    </tr>\n",
       "    <tr>\n",
       "      <th>4</th>\n",
       "      <td>0001d958c54c6e35</td>\n",
       "      <td>You, sir, are my hero. Any chance you remember...</td>\n",
       "      <td>0</td>\n",
       "      <td>0</td>\n",
       "      <td>0</td>\n",
       "      <td>0</td>\n",
       "      <td>0</td>\n",
       "      <td>0</td>\n",
       "    </tr>\n",
       "  </tbody>\n",
       "</table>\n",
       "</div>"
      ],
      "text/plain": [
       "                 id                                       comment_text  toxic  \\\n",
       "0  0000997932d777bf  Explanation\\nWhy the edits made under my usern...      0   \n",
       "1  000103f0d9cfb60f  D'aww! He matches this background colour I'm s...      0   \n",
       "2  000113f07ec002fd  Hey man, I'm really not trying to edit war. It...      0   \n",
       "3  0001b41b1c6bb37e  \"\\nMore\\nI can't make any real suggestions on ...      0   \n",
       "4  0001d958c54c6e35  You, sir, are my hero. Any chance you remember...      0   \n",
       "\n",
       "   severe_toxic  obscene  threat  insult  identity_hate  \n",
       "0             0        0       0       0              0  \n",
       "1             0        0       0       0              0  \n",
       "2             0        0       0       0              0  \n",
       "3             0        0       0       0              0  \n",
       "4             0        0       0       0              0  "
      ]
     },
     "execution_count": 10,
     "metadata": {},
     "output_type": "execute_result"
    }
   ],
   "source": [
    "train = pd.read_csv(\"./data/unzipped/train.csv/train.csv\")\n",
    "train.head()"
   ]
  },
  {
   "cell_type": "code",
   "execution_count": 47,
   "metadata": {},
   "outputs": [],
   "source": [
    "doc = nlp(\"how are you?\")"
   ]
  },
  {
   "cell_type": "code",
   "execution_count": 33,
   "metadata": {},
   "outputs": [
    {
     "data": {
      "text/plain": [
       "['_',\n",
       " '__bytes__',\n",
       " '__class__',\n",
       " '__delattr__',\n",
       " '__dir__',\n",
       " '__doc__',\n",
       " '__eq__',\n",
       " '__format__',\n",
       " '__ge__',\n",
       " '__getattribute__',\n",
       " '__getitem__',\n",
       " '__gt__',\n",
       " '__hash__',\n",
       " '__init__',\n",
       " '__init_subclass__',\n",
       " '__iter__',\n",
       " '__le__',\n",
       " '__len__',\n",
       " '__lt__',\n",
       " '__ne__',\n",
       " '__new__',\n",
       " '__pyx_vtable__',\n",
       " '__reduce__',\n",
       " '__reduce_ex__',\n",
       " '__repr__',\n",
       " '__setattr__',\n",
       " '__setstate__',\n",
       " '__sizeof__',\n",
       " '__str__',\n",
       " '__subclasshook__',\n",
       " '__unicode__',\n",
       " '_bulk_merge',\n",
       " '_context',\n",
       " '_get_array_attrs',\n",
       " '_realloc',\n",
       " '_vector',\n",
       " '_vector_norm',\n",
       " 'cats',\n",
       " 'char_span',\n",
       " 'copy',\n",
       " 'count_by',\n",
       " 'doc',\n",
       " 'ents',\n",
       " 'extend_tensor',\n",
       " 'from_array',\n",
       " 'from_bytes',\n",
       " 'from_dict',\n",
       " 'from_disk',\n",
       " 'from_docs',\n",
       " 'from_json',\n",
       " 'get_extension',\n",
       " 'get_lca_matrix',\n",
       " 'has_annotation',\n",
       " 'has_extension',\n",
       " 'has_unknown_spaces',\n",
       " 'has_vector',\n",
       " 'is_nered',\n",
       " 'is_parsed',\n",
       " 'is_sentenced',\n",
       " 'is_tagged',\n",
       " 'lang',\n",
       " 'lang_',\n",
       " 'mem',\n",
       " 'noun_chunks',\n",
       " 'noun_chunks_iterator',\n",
       " 'remove_extension',\n",
       " 'retokenize',\n",
       " 'sentiment',\n",
       " 'sents',\n",
       " 'set_ents',\n",
       " 'set_extension',\n",
       " 'similarity',\n",
       " 'spans',\n",
       " 'tensor',\n",
       " 'text',\n",
       " 'text_with_ws',\n",
       " 'to_array',\n",
       " 'to_bytes',\n",
       " 'to_dict',\n",
       " 'to_disk',\n",
       " 'to_json',\n",
       " 'to_utf8_array',\n",
       " 'user_data',\n",
       " 'user_hooks',\n",
       " 'user_span_hooks',\n",
       " 'user_token_hooks',\n",
       " 'vector',\n",
       " 'vector_norm',\n",
       " 'vocab']"
      ]
     },
     "execution_count": 33,
     "metadata": {},
     "output_type": "execute_result"
    }
   ],
   "source": [
    "dir(doc)"
   ]
  },
  {
   "cell_type": "code",
   "execution_count": 49,
   "metadata": {},
   "outputs": [
    {
     "data": {
      "text/plain": [
       "96"
      ]
     },
     "execution_count": 49,
     "metadata": {},
     "output_type": "execute_result"
    }
   ],
   "source": [
    "len(doc.vector)"
   ]
  },
  {
   "cell_type": "code",
   "execution_count": 55,
   "metadata": {},
   "outputs": [
    {
     "name": "stdout",
     "output_type": "stream",
     "text": [
      "how Lemma:how    Vector size:96\n",
      "are Lemma:be    Vector size:96\n",
      "you Lemma:you    Vector size:96\n",
      "? Lemma:?    Vector size:96\n"
     ]
    }
   ],
   "source": [
    "for token in doc:\n",
    "    print(token.text+\" Lemma:\"+token.lemma_+\"    Vector size:\"+str(len(token.vector)))\n",
    "    \n",
    "    "
   ]
  },
  {
   "cell_type": "code",
   "execution_count": 51,
   "metadata": {},
   "outputs": [
    {
     "name": "stdout",
     "output_type": "stream",
     "text": [
      "Defaulting to user installation because normal site-packages is not writeable\n",
      "Collecting gensim\n",
      "  Downloading gensim-4.3.1-cp310-cp310-manylinux_2_17_x86_64.manylinux2014_x86_64.whl (26.4 MB)\n",
      "\u001b[2K     \u001b[90m━━━━━━━━━━━━━━━━━━━━━━━━━━━━━━━━━━━━━━━━\u001b[0m \u001b[32m26.4/26.4 MB\u001b[0m \u001b[31m11.1 MB/s\u001b[0m eta \u001b[36m0:00:00\u001b[0m00:01\u001b[0m00:01\u001b[0m\n",
      "\u001b[?25hRequirement already satisfied: numpy>=1.18.5 in /ext3/miniconda3/lib/python3.10/site-packages (from gensim) (1.23.5)\n",
      "Requirement already satisfied: scipy>=1.7.0 in /ext3/miniconda3/lib/python3.10/site-packages (from gensim) (1.11.1)\n",
      "Requirement already satisfied: smart-open>=1.8.1 in /home/rp3752/.local/lib/python3.10/site-packages (from gensim) (6.3.0)\n",
      "Installing collected packages: gensim\n",
      "Successfully installed gensim-4.3.1\n"
     ]
    }
   ],
   "source": [
    "!pip3 install gensim"
   ]
  },
  {
   "cell_type": "code",
   "execution_count": 2,
   "metadata": {},
   "outputs": [],
   "source": [
    "import gensim.downloader as api\n",
    "wv = api.load('word2vec-google-news-300')"
   ]
  },
  {
   "cell_type": "code",
   "execution_count": 8,
   "metadata": {},
   "outputs": [],
   "source": [
    "# null_np = np.full((1,300), -1.0)\n",
    "def preprocess(text):\n",
    "    doc = nlp(text)\n",
    "    features = []\n",
    "    for token in doc:\n",
    "        if token.is_stop or token.is_punct:\n",
    "            continue\n",
    "        features.append(token.lemma_)\n",
    "    if len(features)!=0:\n",
    "        return wv.get_mean_vector(features)\n",
    "    return null_np"
   ]
  },
  {
   "cell_type": "code",
   "execution_count": 61,
   "metadata": {},
   "outputs": [
    {
     "data": {
      "text/plain": [
       "300"
      ]
     },
     "execution_count": 61,
     "metadata": {},
     "output_type": "execute_result"
    }
   ],
   "source": [
    "temp = preprocess(\"how are you? hope you had a good weekend\")\n",
    "len(temp)"
   ]
  },
  {
   "cell_type": "code",
   "execution_count": 75,
   "metadata": {},
   "outputs": [
    {
     "data": {
      "text/plain": [
       "array([-4.77736164e-03,  1.16564305e-02, -1.34349288e-02,  1.99930631e-02,\n",
       "       -1.43647892e-02, -3.02310637e-03, -7.65321776e-04, -1.91369895e-02,\n",
       "        3.79900225e-02, -2.23174761e-03, -1.52672799e-02,  1.01686139e-02,\n",
       "       -1.91523298e-03,  1.93821043e-02, -2.57160403e-02,  6.00715261e-03,\n",
       "        1.41737480e-02,  1.98179074e-02, -5.88000705e-03, -4.12416533e-02,\n",
       "        2.82031335e-02,  3.15418318e-02,  3.07462690e-03,  1.74501296e-02,\n",
       "       -8.79370514e-03,  2.56828181e-02, -1.52544007e-02,  2.38179751e-02,\n",
       "        2.49457620e-02, -2.03248225e-02, -1.81772467e-02, -3.49991210e-03,\n",
       "       -3.77448276e-02, -1.24468710e-02, -4.33747424e-03, -2.18078196e-02,\n",
       "        2.64704023e-02,  1.08244941e-02,  6.16918178e-03,  3.04788016e-02,\n",
       "        6.98868791e-03, -1.36839049e-02,  3.55073549e-02, -1.59825571e-02,\n",
       "       -2.95412447e-02, -4.10084166e-02, -1.19091701e-02, -6.80684391e-03,\n",
       "       -2.70662606e-02,  1.56163480e-02, -4.86759916e-02, -3.94009519e-04,\n",
       "       -4.36481554e-03, -1.63139775e-02,  5.22390474e-03,  1.65924965e-03,\n",
       "       -3.33336666e-02, -1.64873060e-02, -1.76082198e-02, -2.64249593e-02,\n",
       "        1.40614179e-03,  5.67981368e-03, -1.79861728e-02,  1.41444057e-03,\n",
       "       -2.64937319e-02, -2.65892539e-02, -2.39779763e-02,  1.53417289e-02,\n",
       "       -3.84122832e-03,  5.09978943e-02,  1.49761494e-02,  1.14017108e-03,\n",
       "        2.33799648e-02, -3.53071350e-03, -4.71848473e-02, -2.55269166e-02,\n",
       "        2.30807010e-02, -3.38056171e-03,  1.08583495e-02,  1.19144600e-02,\n",
       "       -6.28631213e-04, -2.20727921e-02,  1.62987672e-02,  1.45239504e-02,\n",
       "        2.16386821e-02, -2.70033274e-02, -2.16689538e-02,  2.35986393e-02,\n",
       "        3.44976112e-02, -1.67952329e-02,  3.90387140e-03, -1.94384400e-02,\n",
       "        9.53039806e-03, -1.56885223e-03, -8.53107870e-03,  6.68963790e-03,\n",
       "        2.38190647e-02, -3.13084875e-03, -7.01332185e-03,  1.05156992e-02,\n",
       "        1.91466156e-02,  1.26585197e-02,  1.12757767e-02,  1.00220796e-02,\n",
       "        3.51773435e-03, -1.95372179e-02, -3.72811221e-03, -3.97626869e-02,\n",
       "        4.72659152e-03, -2.82714423e-02, -1.72451325e-02, -2.73529496e-02,\n",
       "        1.19859213e-03, -2.67114881e-02,  3.82083468e-02, -9.00144316e-03,\n",
       "        8.08914006e-03, -1.48852272e-02,  3.35508734e-02,  1.24326712e-02,\n",
       "        1.69085413e-02, -1.72586720e-02, -2.71791518e-02,  1.31323365e-02,\n",
       "        1.96319818e-03, -1.83897000e-02, -3.37606370e-02, -9.97296348e-03,\n",
       "       -6.55717310e-03, -5.77328354e-03, -2.15308629e-02, -4.09906209e-02,\n",
       "       -2.36000679e-02,  2.11013090e-02, -7.60644814e-03,  1.60032772e-02,\n",
       "       -2.37374865e-02, -8.24263692e-03, -1.06001403e-02,  1.51774529e-02,\n",
       "        2.65217572e-02, -1.89991817e-02, -1.74883157e-02, -1.47385122e-02,\n",
       "        1.65280048e-02,  5.98037848e-03,  1.88300235e-03,  7.36356061e-03,\n",
       "       -2.39552651e-02, -2.75323680e-03,  3.57176736e-02, -7.88166653e-03,\n",
       "        2.14026440e-02,  1.37051065e-02,  1.55370887e-02, -3.66032943e-02,\n",
       "       -6.30336488e-03, -1.26952948e-02, -1.49821611e-02, -1.87849253e-02,\n",
       "        9.38696228e-03,  3.42335440e-02, -1.10472669e-03, -1.16172079e-02,\n",
       "        3.05210124e-03, -3.31568643e-02, -1.14675481e-02, -4.30353871e-03,\n",
       "       -1.79085974e-02,  3.47680561e-02, -1.42487409e-02, -1.72804892e-02,\n",
       "        6.71925489e-03, -1.98860932e-02,  1.19515304e-02, -1.56671926e-03,\n",
       "        1.12969112e-02, -2.11532637e-02, -2.66597085e-02, -9.31153260e-03,\n",
       "       -3.74045298e-02, -5.29599935e-03, -5.91996312e-03, -1.46291880e-02,\n",
       "        4.49614832e-03,  6.80131372e-04, -1.47246225e-02,  3.66737582e-02,\n",
       "        4.60644737e-02,  3.10507957e-02, -1.77297853e-02,  1.53639913e-02,\n",
       "       -5.05678728e-03,  9.79375839e-03, -4.58791340e-03, -1.09712033e-04,\n",
       "        3.59495096e-02, -1.55973537e-02, -9.54063144e-03,  1.00249927e-02,\n",
       "        1.35997506e-02,  1.92194171e-02, -1.24187395e-02, -1.02047566e-02,\n",
       "        1.09162107e-02, -7.32497778e-03, -1.92414578e-02, -3.37080855e-04,\n",
       "       -8.58666390e-05, -2.63266987e-03,  5.65067399e-03, -2.27830117e-03,\n",
       "        2.52404362e-02,  9.98193957e-03, -4.05323431e-02,  1.37442024e-02,\n",
       "        7.90498871e-03,  9.87512339e-03, -4.33083717e-03, -2.78374162e-02,\n",
       "       -1.93717498e-02,  6.99771196e-03, -9.70885716e-03, -1.48141729e-02,\n",
       "        1.39447097e-02, -2.17740070e-02, -1.45860370e-02,  1.83549542e-02,\n",
       "       -4.97136079e-03,  1.10116396e-02, -1.17968833e-02, -1.43272613e-04,\n",
       "       -9.07739811e-03,  1.56646222e-03,  1.15217743e-02, -1.39735192e-02,\n",
       "        2.78100818e-02, -1.98666565e-02,  2.95824893e-02, -6.85753592e-04,\n",
       "        1.63764451e-02, -1.82371214e-02, -4.21921071e-03, -6.53390139e-02,\n",
       "       -1.93647053e-02,  2.31067766e-03, -5.27081836e-04,  4.29362953e-02,\n",
       "       -2.26277439e-03,  3.94553086e-03,  1.34948315e-02,  5.48491403e-02,\n",
       "       -2.08377857e-02, -4.34723217e-03,  1.76470987e-02, -2.11879984e-03,\n",
       "        1.78740136e-02,  1.10149812e-02, -1.21844169e-02, -2.82558408e-02,\n",
       "        3.62291932e-02, -2.17829971e-03, -1.20569244e-02, -3.65257030e-03,\n",
       "        1.30458279e-02,  1.05423480e-02, -2.84782089e-02, -3.06663656e-04,\n",
       "       -7.60168349e-03, -2.98282318e-02,  2.54683755e-02,  6.02004118e-02,\n",
       "        2.00260933e-02,  1.31754782e-02,  2.08245572e-02, -1.86571036e-03,\n",
       "       -2.02828217e-02, -3.52857858e-02, -9.12320428e-03, -4.86999936e-03,\n",
       "       -7.84069858e-03,  1.98290069e-02,  3.69765493e-03,  1.30884480e-02,\n",
       "        2.86277495e-02, -1.94343589e-02, -1.02776149e-02,  5.38203353e-03,\n",
       "        3.58455395e-03,  2.16011121e-03,  1.37444790e-02,  1.76723413e-02,\n",
       "       -3.57516333e-02,  2.10636761e-02,  8.89132556e-04, -2.50195377e-02,\n",
       "        4.06089285e-03, -2.26403866e-02, -3.49799157e-05, -1.00371363e-02],\n",
       "      dtype=float32)"
      ]
     },
     "execution_count": 75,
     "metadata": {},
     "output_type": "execute_result"
    }
   ],
   "source": [
    "preprocess(train[\"comment_text\"][0])"
   ]
  },
  {
   "cell_type": "code",
   "execution_count": 13,
   "metadata": {},
   "outputs": [
    {
     "data": {
      "text/html": [
       "<div>\n",
       "<style scoped>\n",
       "    .dataframe tbody tr th:only-of-type {\n",
       "        vertical-align: middle;\n",
       "    }\n",
       "\n",
       "    .dataframe tbody tr th {\n",
       "        vertical-align: top;\n",
       "    }\n",
       "\n",
       "    .dataframe thead th {\n",
       "        text-align: right;\n",
       "    }\n",
       "</style>\n",
       "<table border=\"1\" class=\"dataframe\">\n",
       "  <thead>\n",
       "    <tr style=\"text-align: right;\">\n",
       "      <th></th>\n",
       "      <th>id</th>\n",
       "      <th>comment_text</th>\n",
       "      <th>toxic</th>\n",
       "      <th>severe_toxic</th>\n",
       "      <th>obscene</th>\n",
       "      <th>threat</th>\n",
       "      <th>insult</th>\n",
       "      <th>identity_hate</th>\n",
       "      <th>vector</th>\n",
       "    </tr>\n",
       "  </thead>\n",
       "  <tbody>\n",
       "    <tr>\n",
       "      <th>0</th>\n",
       "      <td>0000997932d777bf</td>\n",
       "      <td>Explanation\\nWhy the edits made under my usern...</td>\n",
       "      <td>0</td>\n",
       "      <td>0</td>\n",
       "      <td>0</td>\n",
       "      <td>0</td>\n",
       "      <td>0</td>\n",
       "      <td>0</td>\n",
       "      <td>[-0.0047773616, 0.011656431, -0.013434929, 0.0...</td>\n",
       "    </tr>\n",
       "    <tr>\n",
       "      <th>1</th>\n",
       "      <td>000103f0d9cfb60f</td>\n",
       "      <td>D'aww! He matches this background colour I'm s...</td>\n",
       "      <td>0</td>\n",
       "      <td>0</td>\n",
       "      <td>0</td>\n",
       "      <td>0</td>\n",
       "      <td>0</td>\n",
       "      <td>0</td>\n",
       "      <td>[-0.012797508, 0.001847478, -0.007269389, 0.03...</td>\n",
       "    </tr>\n",
       "    <tr>\n",
       "      <th>2</th>\n",
       "      <td>000113f07ec002fd</td>\n",
       "      <td>Hey man, I'm really not trying to edit war. It...</td>\n",
       "      <td>0</td>\n",
       "      <td>0</td>\n",
       "      <td>0</td>\n",
       "      <td>0</td>\n",
       "      <td>0</td>\n",
       "      <td>0</td>\n",
       "      <td>[0.019156601, 0.017975323, 0.0040907627, 0.027...</td>\n",
       "    </tr>\n",
       "    <tr>\n",
       "      <th>3</th>\n",
       "      <td>0001b41b1c6bb37e</td>\n",
       "      <td>\"\\nMore\\nI can't make any real suggestions on ...</td>\n",
       "      <td>0</td>\n",
       "      <td>0</td>\n",
       "      <td>0</td>\n",
       "      <td>0</td>\n",
       "      <td>0</td>\n",
       "      <td>0</td>\n",
       "      <td>[0.005711646, 0.0019102592, 0.015679128, 0.033...</td>\n",
       "    </tr>\n",
       "    <tr>\n",
       "      <th>4</th>\n",
       "      <td>0001d958c54c6e35</td>\n",
       "      <td>You, sir, are my hero. Any chance you remember...</td>\n",
       "      <td>0</td>\n",
       "      <td>0</td>\n",
       "      <td>0</td>\n",
       "      <td>0</td>\n",
       "      <td>0</td>\n",
       "      <td>0</td>\n",
       "      <td>[0.06168122, 0.021165162, 0.057386924, 0.04723...</td>\n",
       "    </tr>\n",
       "  </tbody>\n",
       "</table>\n",
       "</div>"
      ],
      "text/plain": [
       "                 id                                       comment_text  toxic  \\\n",
       "0  0000997932d777bf  Explanation\\nWhy the edits made under my usern...      0   \n",
       "1  000103f0d9cfb60f  D'aww! He matches this background colour I'm s...      0   \n",
       "2  000113f07ec002fd  Hey man, I'm really not trying to edit war. It...      0   \n",
       "3  0001b41b1c6bb37e  \"\\nMore\\nI can't make any real suggestions on ...      0   \n",
       "4  0001d958c54c6e35  You, sir, are my hero. Any chance you remember...      0   \n",
       "\n",
       "   severe_toxic  obscene  threat  insult  identity_hate  \\\n",
       "0             0        0       0       0              0   \n",
       "1             0        0       0       0              0   \n",
       "2             0        0       0       0              0   \n",
       "3             0        0       0       0              0   \n",
       "4             0        0       0       0              0   \n",
       "\n",
       "                                              vector  \n",
       "0  [-0.0047773616, 0.011656431, -0.013434929, 0.0...  \n",
       "1  [-0.012797508, 0.001847478, -0.007269389, 0.03...  \n",
       "2  [0.019156601, 0.017975323, 0.0040907627, 0.027...  \n",
       "3  [0.005711646, 0.0019102592, 0.015679128, 0.033...  \n",
       "4  [0.06168122, 0.021165162, 0.057386924, 0.04723...  "
      ]
     },
     "execution_count": 13,
     "metadata": {},
     "output_type": "execute_result"
    }
   ],
   "source": [
    "train[\"vector\"] = train[\"comment_text\"].apply(lambda x: preprocess(x))\n",
    "train.head()"
   ]
  },
  {
   "cell_type": "code",
   "execution_count": 23,
   "metadata": {},
   "outputs": [
    {
     "data": {
      "text/plain": [
       "159502"
      ]
     },
     "execution_count": 23,
     "metadata": {},
     "output_type": "execute_result"
    }
   ],
   "source": [
    "train = train[~(train[\"vector\"].apply(lambda x: (x==null_np).sum()==300))]\n",
    "len(train)"
   ]
  },
  {
   "cell_type": "code",
   "execution_count": 24,
   "metadata": {},
   "outputs": [
    {
     "data": {
      "text/html": [
       "<div>\n",
       "<style scoped>\n",
       "    .dataframe tbody tr th:only-of-type {\n",
       "        vertical-align: middle;\n",
       "    }\n",
       "\n",
       "    .dataframe tbody tr th {\n",
       "        vertical-align: top;\n",
       "    }\n",
       "\n",
       "    .dataframe thead th {\n",
       "        text-align: right;\n",
       "    }\n",
       "</style>\n",
       "<table border=\"1\" class=\"dataframe\">\n",
       "  <thead>\n",
       "    <tr style=\"text-align: right;\">\n",
       "      <th></th>\n",
       "      <th>id</th>\n",
       "      <th>comment_text</th>\n",
       "      <th>toxic</th>\n",
       "      <th>severe_toxic</th>\n",
       "      <th>obscene</th>\n",
       "      <th>threat</th>\n",
       "      <th>insult</th>\n",
       "      <th>identity_hate</th>\n",
       "      <th>vector</th>\n",
       "    </tr>\n",
       "  </thead>\n",
       "  <tbody>\n",
       "    <tr>\n",
       "      <th>0</th>\n",
       "      <td>0000997932d777bf</td>\n",
       "      <td>Explanation\\nWhy the edits made under my usern...</td>\n",
       "      <td>0</td>\n",
       "      <td>0</td>\n",
       "      <td>0</td>\n",
       "      <td>0</td>\n",
       "      <td>0</td>\n",
       "      <td>0</td>\n",
       "      <td>[-0.0047773616, 0.011656431, -0.013434929, 0.0...</td>\n",
       "    </tr>\n",
       "    <tr>\n",
       "      <th>1</th>\n",
       "      <td>000103f0d9cfb60f</td>\n",
       "      <td>D'aww! He matches this background colour I'm s...</td>\n",
       "      <td>0</td>\n",
       "      <td>0</td>\n",
       "      <td>0</td>\n",
       "      <td>0</td>\n",
       "      <td>0</td>\n",
       "      <td>0</td>\n",
       "      <td>[-0.012797508, 0.001847478, -0.007269389, 0.03...</td>\n",
       "    </tr>\n",
       "    <tr>\n",
       "      <th>2</th>\n",
       "      <td>000113f07ec002fd</td>\n",
       "      <td>Hey man, I'm really not trying to edit war. It...</td>\n",
       "      <td>0</td>\n",
       "      <td>0</td>\n",
       "      <td>0</td>\n",
       "      <td>0</td>\n",
       "      <td>0</td>\n",
       "      <td>0</td>\n",
       "      <td>[0.019156601, 0.017975323, 0.0040907627, 0.027...</td>\n",
       "    </tr>\n",
       "    <tr>\n",
       "      <th>3</th>\n",
       "      <td>0001b41b1c6bb37e</td>\n",
       "      <td>\"\\nMore\\nI can't make any real suggestions on ...</td>\n",
       "      <td>0</td>\n",
       "      <td>0</td>\n",
       "      <td>0</td>\n",
       "      <td>0</td>\n",
       "      <td>0</td>\n",
       "      <td>0</td>\n",
       "      <td>[0.005711646, 0.0019102592, 0.015679128, 0.033...</td>\n",
       "    </tr>\n",
       "    <tr>\n",
       "      <th>4</th>\n",
       "      <td>0001d958c54c6e35</td>\n",
       "      <td>You, sir, are my hero. Any chance you remember...</td>\n",
       "      <td>0</td>\n",
       "      <td>0</td>\n",
       "      <td>0</td>\n",
       "      <td>0</td>\n",
       "      <td>0</td>\n",
       "      <td>0</td>\n",
       "      <td>[0.06168122, 0.021165162, 0.057386924, 0.04723...</td>\n",
       "    </tr>\n",
       "  </tbody>\n",
       "</table>\n",
       "</div>"
      ],
      "text/plain": [
       "                 id                                       comment_text  toxic  \\\n",
       "0  0000997932d777bf  Explanation\\nWhy the edits made under my usern...      0   \n",
       "1  000103f0d9cfb60f  D'aww! He matches this background colour I'm s...      0   \n",
       "2  000113f07ec002fd  Hey man, I'm really not trying to edit war. It...      0   \n",
       "3  0001b41b1c6bb37e  \"\\nMore\\nI can't make any real suggestions on ...      0   \n",
       "4  0001d958c54c6e35  You, sir, are my hero. Any chance you remember...      0   \n",
       "\n",
       "   severe_toxic  obscene  threat  insult  identity_hate  \\\n",
       "0             0        0       0       0              0   \n",
       "1             0        0       0       0              0   \n",
       "2             0        0       0       0              0   \n",
       "3             0        0       0       0              0   \n",
       "4             0        0       0       0              0   \n",
       "\n",
       "                                              vector  \n",
       "0  [-0.0047773616, 0.011656431, -0.013434929, 0.0...  \n",
       "1  [-0.012797508, 0.001847478, -0.007269389, 0.03...  \n",
       "2  [0.019156601, 0.017975323, 0.0040907627, 0.027...  \n",
       "3  [0.005711646, 0.0019102592, 0.015679128, 0.033...  \n",
       "4  [0.06168122, 0.021165162, 0.057386924, 0.04723...  "
      ]
     },
     "execution_count": 24,
     "metadata": {},
     "output_type": "execute_result"
    }
   ],
   "source": [
    "train.head()"
   ]
  },
  {
   "cell_type": "code",
   "execution_count": 26,
   "metadata": {},
   "outputs": [],
   "source": [
    "train.drop([\"id\",\"comment_text\"],axis=1,inplace=True)"
   ]
  },
  {
   "cell_type": "code",
   "execution_count": 28,
   "metadata": {},
   "outputs": [],
   "source": [
    "compression_opts = dict(method='zip',archive_name='cleaned_train.csv')\n",
    "train.to_csv('cleaned_train.zip', index=False, compression=compression_opts)"
   ]
  },
  {
   "cell_type": "code",
   "execution_count": 3,
   "metadata": {},
   "outputs": [
    {
     "data": {
      "text/html": [
       "<div>\n",
       "<style scoped>\n",
       "    .dataframe tbody tr th:only-of-type {\n",
       "        vertical-align: middle;\n",
       "    }\n",
       "\n",
       "    .dataframe tbody tr th {\n",
       "        vertical-align: top;\n",
       "    }\n",
       "\n",
       "    .dataframe thead th {\n",
       "        text-align: right;\n",
       "    }\n",
       "</style>\n",
       "<table border=\"1\" class=\"dataframe\">\n",
       "  <thead>\n",
       "    <tr style=\"text-align: right;\">\n",
       "      <th></th>\n",
       "      <th>toxic</th>\n",
       "      <th>severe_toxic</th>\n",
       "      <th>obscene</th>\n",
       "      <th>threat</th>\n",
       "      <th>insult</th>\n",
       "      <th>identity_hate</th>\n",
       "      <th>vector</th>\n",
       "    </tr>\n",
       "  </thead>\n",
       "  <tbody>\n",
       "    <tr>\n",
       "      <th>0</th>\n",
       "      <td>0</td>\n",
       "      <td>0</td>\n",
       "      <td>0</td>\n",
       "      <td>0</td>\n",
       "      <td>0</td>\n",
       "      <td>0</td>\n",
       "      <td>[-4.77736164e-03  1.16564305e-02 -1.34349288e-...</td>\n",
       "    </tr>\n",
       "    <tr>\n",
       "      <th>1</th>\n",
       "      <td>0</td>\n",
       "      <td>0</td>\n",
       "      <td>0</td>\n",
       "      <td>0</td>\n",
       "      <td>0</td>\n",
       "      <td>0</td>\n",
       "      <td>[-0.01279751  0.00184748 -0.00726939  0.035189...</td>\n",
       "    </tr>\n",
       "    <tr>\n",
       "      <th>2</th>\n",
       "      <td>0</td>\n",
       "      <td>0</td>\n",
       "      <td>0</td>\n",
       "      <td>0</td>\n",
       "      <td>0</td>\n",
       "      <td>0</td>\n",
       "      <td>[ 1.91566013e-02  1.79753229e-02  4.09076270e-...</td>\n",
       "    </tr>\n",
       "    <tr>\n",
       "      <th>3</th>\n",
       "      <td>0</td>\n",
       "      <td>0</td>\n",
       "      <td>0</td>\n",
       "      <td>0</td>\n",
       "      <td>0</td>\n",
       "      <td>0</td>\n",
       "      <td>[ 0.00571165  0.00191026  0.01567913  0.033304...</td>\n",
       "    </tr>\n",
       "    <tr>\n",
       "      <th>4</th>\n",
       "      <td>0</td>\n",
       "      <td>0</td>\n",
       "      <td>0</td>\n",
       "      <td>0</td>\n",
       "      <td>0</td>\n",
       "      <td>0</td>\n",
       "      <td>[ 6.16812184e-02  2.11651623e-02  5.73869236e-...</td>\n",
       "    </tr>\n",
       "  </tbody>\n",
       "</table>\n",
       "</div>"
      ],
      "text/plain": [
       "   toxic  severe_toxic  obscene  threat  insult  identity_hate  \\\n",
       "0      0             0        0       0       0              0   \n",
       "1      0             0        0       0       0              0   \n",
       "2      0             0        0       0       0              0   \n",
       "3      0             0        0       0       0              0   \n",
       "4      0             0        0       0       0              0   \n",
       "\n",
       "                                              vector  \n",
       "0  [-4.77736164e-03  1.16564305e-02 -1.34349288e-...  \n",
       "1  [-0.01279751  0.00184748 -0.00726939  0.035189...  \n",
       "2  [ 1.91566013e-02  1.79753229e-02  4.09076270e-...  \n",
       "3  [ 0.00571165  0.00191026  0.01567913  0.033304...  \n",
       "4  [ 6.16812184e-02  2.11651623e-02  5.73869236e-...  "
      ]
     },
     "execution_count": 3,
     "metadata": {},
     "output_type": "execute_result"
    }
   ],
   "source": [
    "df = pd.read_csv('cleaned_train.zip',compression='zip')\n",
    "df.head()"
   ]
  },
  {
   "cell_type": "code",
   "execution_count": 4,
   "metadata": {},
   "outputs": [],
   "source": [
    "Y = df[df.columns[:6]].values"
   ]
  },
  {
   "cell_type": "code",
   "execution_count": 6,
   "metadata": {},
   "outputs": [
    {
     "data": {
      "text/plain": [
       "numpy.ndarray"
      ]
     },
     "execution_count": 6,
     "metadata": {},
     "output_type": "execute_result"
    }
   ],
   "source": [
    "type(Y)"
   ]
  },
  {
   "cell_type": "code",
   "execution_count": 7,
   "metadata": {},
   "outputs": [
    {
     "data": {
      "text/plain": [
       "(159502, 6)"
      ]
     },
     "execution_count": 7,
     "metadata": {},
     "output_type": "execute_result"
    }
   ],
   "source": [
    "Y.shape"
   ]
  },
  {
   "cell_type": "code",
   "execution_count": 63,
   "metadata": {},
   "outputs": [
    {
     "data": {
      "text/plain": [
       "pandas.core.series.Series"
      ]
     },
     "execution_count": 63,
     "metadata": {},
     "output_type": "execute_result"
    }
   ],
   "source": [
    "type(train['vector'])"
   ]
  },
  {
   "cell_type": "code",
   "execution_count": 72,
   "metadata": {},
   "outputs": [],
   "source": [
    "np_array = np.stack(train['vector'].to_numpy())"
   ]
  },
  {
   "cell_type": "code",
   "execution_count": 74,
   "metadata": {},
   "outputs": [],
   "source": [
    "np.savetxt(\"X_train.csv\", np_array, delimiter=\",\")"
   ]
  },
  {
   "cell_type": "code",
   "execution_count": 5,
   "metadata": {},
   "outputs": [
    {
     "data": {
      "text/html": [
       "<div>\n",
       "<style scoped>\n",
       "    .dataframe tbody tr th:only-of-type {\n",
       "        vertical-align: middle;\n",
       "    }\n",
       "\n",
       "    .dataframe tbody tr th {\n",
       "        vertical-align: top;\n",
       "    }\n",
       "\n",
       "    .dataframe thead th {\n",
       "        text-align: right;\n",
       "    }\n",
       "</style>\n",
       "<table border=\"1\" class=\"dataframe\">\n",
       "  <thead>\n",
       "    <tr style=\"text-align: right;\">\n",
       "      <th></th>\n",
       "      <th>0</th>\n",
       "      <th>1</th>\n",
       "      <th>2</th>\n",
       "      <th>3</th>\n",
       "      <th>4</th>\n",
       "      <th>5</th>\n",
       "      <th>6</th>\n",
       "      <th>7</th>\n",
       "      <th>8</th>\n",
       "      <th>9</th>\n",
       "      <th>...</th>\n",
       "      <th>290</th>\n",
       "      <th>291</th>\n",
       "      <th>292</th>\n",
       "      <th>293</th>\n",
       "      <th>294</th>\n",
       "      <th>295</th>\n",
       "      <th>296</th>\n",
       "      <th>297</th>\n",
       "      <th>298</th>\n",
       "      <th>299</th>\n",
       "    </tr>\n",
       "  </thead>\n",
       "  <tbody>\n",
       "    <tr>\n",
       "      <th>0</th>\n",
       "      <td>-0.004777</td>\n",
       "      <td>0.011656</td>\n",
       "      <td>-0.013435</td>\n",
       "      <td>0.019993</td>\n",
       "      <td>-0.014365</td>\n",
       "      <td>-0.003023</td>\n",
       "      <td>-0.000765</td>\n",
       "      <td>-0.019137</td>\n",
       "      <td>0.037990</td>\n",
       "      <td>-0.002232</td>\n",
       "      <td>...</td>\n",
       "      <td>0.013744</td>\n",
       "      <td>0.017672</td>\n",
       "      <td>-0.035752</td>\n",
       "      <td>0.021064</td>\n",
       "      <td>0.000889</td>\n",
       "      <td>-0.025020</td>\n",
       "      <td>0.004061</td>\n",
       "      <td>-0.022640</td>\n",
       "      <td>-0.000035</td>\n",
       "      <td>-0.010037</td>\n",
       "    </tr>\n",
       "    <tr>\n",
       "      <th>1</th>\n",
       "      <td>-0.012798</td>\n",
       "      <td>0.001847</td>\n",
       "      <td>-0.007269</td>\n",
       "      <td>0.035190</td>\n",
       "      <td>0.000900</td>\n",
       "      <td>-0.006326</td>\n",
       "      <td>0.043844</td>\n",
       "      <td>-0.051993</td>\n",
       "      <td>0.022584</td>\n",
       "      <td>0.003763</td>\n",
       "      <td>...</td>\n",
       "      <td>-0.022730</td>\n",
       "      <td>0.031547</td>\n",
       "      <td>-0.025342</td>\n",
       "      <td>0.002710</td>\n",
       "      <td>0.003946</td>\n",
       "      <td>-0.057189</td>\n",
       "      <td>-0.013407</td>\n",
       "      <td>0.006232</td>\n",
       "      <td>-0.007281</td>\n",
       "      <td>-0.010219</td>\n",
       "    </tr>\n",
       "    <tr>\n",
       "      <th>2</th>\n",
       "      <td>0.019157</td>\n",
       "      <td>0.017975</td>\n",
       "      <td>0.004091</td>\n",
       "      <td>0.027871</td>\n",
       "      <td>-0.026587</td>\n",
       "      <td>0.024505</td>\n",
       "      <td>0.040593</td>\n",
       "      <td>-0.019008</td>\n",
       "      <td>0.026593</td>\n",
       "      <td>-0.016951</td>\n",
       "      <td>...</td>\n",
       "      <td>0.010579</td>\n",
       "      <td>0.020721</td>\n",
       "      <td>-0.025097</td>\n",
       "      <td>0.002146</td>\n",
       "      <td>-0.033680</td>\n",
       "      <td>-0.028237</td>\n",
       "      <td>0.011551</td>\n",
       "      <td>-0.054013</td>\n",
       "      <td>-0.008928</td>\n",
       "      <td>0.001050</td>\n",
       "    </tr>\n",
       "    <tr>\n",
       "      <th>3</th>\n",
       "      <td>0.005712</td>\n",
       "      <td>0.001910</td>\n",
       "      <td>0.015679</td>\n",
       "      <td>0.033304</td>\n",
       "      <td>-0.042728</td>\n",
       "      <td>0.006308</td>\n",
       "      <td>0.026701</td>\n",
       "      <td>-0.032800</td>\n",
       "      <td>0.042724</td>\n",
       "      <td>0.011666</td>\n",
       "      <td>...</td>\n",
       "      <td>-0.018745</td>\n",
       "      <td>0.005183</td>\n",
       "      <td>-0.015525</td>\n",
       "      <td>0.001722</td>\n",
       "      <td>0.006577</td>\n",
       "      <td>-0.032440</td>\n",
       "      <td>-0.000104</td>\n",
       "      <td>-0.050322</td>\n",
       "      <td>-0.015918</td>\n",
       "      <td>-0.002886</td>\n",
       "    </tr>\n",
       "    <tr>\n",
       "      <th>4</th>\n",
       "      <td>0.061681</td>\n",
       "      <td>0.021165</td>\n",
       "      <td>0.057387</td>\n",
       "      <td>0.047238</td>\n",
       "      <td>-0.003662</td>\n",
       "      <td>0.001921</td>\n",
       "      <td>0.030158</td>\n",
       "      <td>-0.037127</td>\n",
       "      <td>0.040927</td>\n",
       "      <td>0.021916</td>\n",
       "      <td>...</td>\n",
       "      <td>0.016607</td>\n",
       "      <td>-0.021364</td>\n",
       "      <td>-0.074804</td>\n",
       "      <td>-0.004605</td>\n",
       "      <td>-0.002551</td>\n",
       "      <td>-0.048136</td>\n",
       "      <td>-0.033954</td>\n",
       "      <td>-0.053546</td>\n",
       "      <td>-0.007734</td>\n",
       "      <td>-0.016857</td>\n",
       "    </tr>\n",
       "  </tbody>\n",
       "</table>\n",
       "<p>5 rows × 300 columns</p>\n",
       "</div>"
      ],
      "text/plain": [
       "        0         1         2         3         4         5         6    \\\n",
       "0 -0.004777  0.011656 -0.013435  0.019993 -0.014365 -0.003023 -0.000765   \n",
       "1 -0.012798  0.001847 -0.007269  0.035190  0.000900 -0.006326  0.043844   \n",
       "2  0.019157  0.017975  0.004091  0.027871 -0.026587  0.024505  0.040593   \n",
       "3  0.005712  0.001910  0.015679  0.033304 -0.042728  0.006308  0.026701   \n",
       "4  0.061681  0.021165  0.057387  0.047238 -0.003662  0.001921  0.030158   \n",
       "\n",
       "        7         8         9    ...       290       291       292       293  \\\n",
       "0 -0.019137  0.037990 -0.002232  ...  0.013744  0.017672 -0.035752  0.021064   \n",
       "1 -0.051993  0.022584  0.003763  ... -0.022730  0.031547 -0.025342  0.002710   \n",
       "2 -0.019008  0.026593 -0.016951  ...  0.010579  0.020721 -0.025097  0.002146   \n",
       "3 -0.032800  0.042724  0.011666  ... -0.018745  0.005183 -0.015525  0.001722   \n",
       "4 -0.037127  0.040927  0.021916  ...  0.016607 -0.021364 -0.074804 -0.004605   \n",
       "\n",
       "        294       295       296       297       298       299  \n",
       "0  0.000889 -0.025020  0.004061 -0.022640 -0.000035 -0.010037  \n",
       "1  0.003946 -0.057189 -0.013407  0.006232 -0.007281 -0.010219  \n",
       "2 -0.033680 -0.028237  0.011551 -0.054013 -0.008928  0.001050  \n",
       "3  0.006577 -0.032440 -0.000104 -0.050322 -0.015918 -0.002886  \n",
       "4 -0.002551 -0.048136 -0.033954 -0.053546 -0.007734 -0.016857  \n",
       "\n",
       "[5 rows x 300 columns]"
      ]
     },
     "execution_count": 5,
     "metadata": {},
     "output_type": "execute_result"
    }
   ],
   "source": [
    "df2 = pd.read_csv(\"X_train.csv\",header=None)\n",
    "df2.head()"
   ]
  },
  {
   "cell_type": "code",
   "execution_count": 9,
   "metadata": {},
   "outputs": [
    {
     "data": {
      "text/plain": [
       "(159502, 300)"
      ]
     },
     "execution_count": 9,
     "metadata": {},
     "output_type": "execute_result"
    }
   ],
   "source": [
    "df2.shape"
   ]
  },
  {
   "cell_type": "code",
   "execution_count": 6,
   "metadata": {},
   "outputs": [],
   "source": [
    "X = df2.to_numpy()"
   ]
  },
  {
   "cell_type": "code",
   "execution_count": 7,
   "metadata": {},
   "outputs": [],
   "source": [
    "X = np.expand_dims(X, -1)"
   ]
  },
  {
   "cell_type": "code",
   "execution_count": 12,
   "metadata": {},
   "outputs": [
    {
     "data": {
      "text/plain": [
       "(159502, 300, 1)"
      ]
     },
     "execution_count": 12,
     "metadata": {},
     "output_type": "execute_result"
    }
   ],
   "source": [
    "X.shape"
   ]
  },
  {
   "cell_type": "code",
   "execution_count": 8,
   "metadata": {},
   "outputs": [],
   "source": [
    "BATCH_SIZE = 32\n",
    "dataset = tf.data.Dataset.from_tensor_slices((X, Y))"
   ]
  },
  {
   "cell_type": "code",
   "execution_count": 9,
   "metadata": {},
   "outputs": [],
   "source": [
    "train = dataset.take(int(len(dataset)*.8))\n",
    "val = dataset.skip(int(len(dataset)*.8)).take(int(len(dataset)*.2))"
   ]
  },
  {
   "cell_type": "code",
   "execution_count": 10,
   "metadata": {},
   "outputs": [],
   "source": [
    "train = train.cache().shuffle(1000).batch(BATCH_SIZE).prefetch(buffer_size=tf.data.AUTOTUNE)\n",
    "val = val.cache().shuffle(1000).batch(BATCH_SIZE).prefetch(buffer_size=tf.data.AUTOTUNE)"
   ]
  },
  {
   "cell_type": "code",
   "execution_count": 16,
   "metadata": {},
   "outputs": [],
   "source": [
    "from tensorflow.keras import models, layers"
   ]
  },
  {
   "cell_type": "code",
   "execution_count": 17,
   "metadata": {},
   "outputs": [
    {
     "data": {
      "text/plain": [
       "3988"
      ]
     },
     "execution_count": 17,
     "metadata": {},
     "output_type": "execute_result"
    }
   ],
   "source": [
    "len(train)"
   ]
  },
  {
   "cell_type": "code",
   "execution_count": 18,
   "metadata": {},
   "outputs": [
    {
     "data": {
      "text/plain": [
       "997"
      ]
     },
     "execution_count": 18,
     "metadata": {},
     "output_type": "execute_result"
    }
   ],
   "source": [
    "len(val)"
   ]
  },
  {
   "cell_type": "code",
   "execution_count": 12,
   "metadata": {},
   "outputs": [],
   "source": [
    "n_classes = 6\n",
    "input_shape = (BATCH_SIZE,300,1)\n",
    "model = models.Sequential([\n",
    "    layers.Bidirectional(tf.keras.layers.RNN(tf.keras.layers.LSTMCell(32 , input_shape = (300,1), activation=\"tanh\"))),\n",
    "    layers.Dense(128,activation='relu'),\n",
    "    layers.Dropout(0.25),\n",
    "    layers.Dense(256,activation='relu'),\n",
    "    layers.Dropout(0.25),\n",
    "    layers.Dense(128,activation='relu'),\n",
    "    layers.Dropout(0.25),\n",
    "    layers.Dense(n_classes,activation='sigmoid')\n",
    "])"
   ]
  },
  {
   "cell_type": "code",
   "execution_count": 13,
   "metadata": {},
   "outputs": [],
   "source": [
    "model.build(input_shape=input_shape)"
   ]
  },
  {
   "cell_type": "code",
   "execution_count": 14,
   "metadata": {},
   "outputs": [
    {
     "name": "stdout",
     "output_type": "stream",
     "text": [
      "Model: \"sequential\"\n",
      "_________________________________________________________________\n",
      " Layer (type)                Output Shape              Param #   \n",
      "=================================================================\n",
      " bidirectional (Bidirectiona  (32, 64)                 8704      \n",
      " l)                                                              \n",
      "                                                                 \n",
      " dense (Dense)               (32, 128)                 8320      \n",
      "                                                                 \n",
      " dropout (Dropout)           (32, 128)                 0         \n",
      "                                                                 \n",
      " dense_1 (Dense)             (32, 256)                 33024     \n",
      "                                                                 \n",
      " dropout_1 (Dropout)         (32, 256)                 0         \n",
      "                                                                 \n",
      " dense_2 (Dense)             (32, 128)                 32896     \n",
      "                                                                 \n",
      " dropout_2 (Dropout)         (32, 128)                 0         \n",
      "                                                                 \n",
      " dense_3 (Dense)             (32, 6)                   774       \n",
      "                                                                 \n",
      "=================================================================\n",
      "Total params: 83,718\n",
      "Trainable params: 83,718\n",
      "Non-trainable params: 0\n",
      "_________________________________________________________________\n"
     ]
    }
   ],
   "source": [
    "model.summary()"
   ]
  },
  {
   "cell_type": "code",
   "execution_count": 15,
   "metadata": {},
   "outputs": [],
   "source": [
    "model.compile(\n",
    "    optimizer='adam',\n",
    "    loss=tf.keras.losses.BinaryCrossentropy(),\n",
    "    metrics=['accuracy']\n",
    ")"
   ]
  },
  {
   "cell_type": "code",
   "execution_count": 16,
   "metadata": {},
   "outputs": [],
   "source": [
    "callback = tf.keras.callbacks.EarlyStopping(monitor='loss', patience=3, restore_best_weights = True)"
   ]
  },
  {
   "cell_type": "code",
   "execution_count": 17,
   "metadata": {},
   "outputs": [
    {
     "name": "stdout",
     "output_type": "stream",
     "text": [
      "Epoch 1/5\n"
     ]
    },
    {
     "name": "stderr",
     "output_type": "stream",
     "text": [
      "2023-07-04 16:28:56.056623: I tensorflow/core/common_runtime/executor.cc:1197] [/device:CPU:0] (DEBUG INFO) Executor start aborting (this does not indicate an error and you can ignore this message): INVALID_ARGUMENT: You must feed a value for placeholder tensor 'Placeholder/_1' with dtype int64 and shape [159502,6]\n",
      "\t [[{{node Placeholder/_1}}]]\n",
      "2023-07-04 16:28:56.056943: I tensorflow/core/common_runtime/executor.cc:1197] [/device:CPU:0] (DEBUG INFO) Executor start aborting (this does not indicate an error and you can ignore this message): INVALID_ARGUMENT: You must feed a value for placeholder tensor 'Placeholder/_0' with dtype double and shape [159502,300,1]\n",
      "\t [[{{node Placeholder/_0}}]]\n"
     ]
    },
    {
     "name": "stdout",
     "output_type": "stream",
     "text": [
      "3988/3988 [==============================] - ETA: 0s - loss: 0.1224 - accuracy: 0.9543"
     ]
    },
    {
     "name": "stderr",
     "output_type": "stream",
     "text": [
      "2023-07-04 16:35:05.739695: I tensorflow/core/common_runtime/executor.cc:1197] [/device:CPU:0] (DEBUG INFO) Executor start aborting (this does not indicate an error and you can ignore this message): INVALID_ARGUMENT: You must feed a value for placeholder tensor 'Placeholder/_1' with dtype int64 and shape [159502,6]\n",
      "\t [[{{node Placeholder/_1}}]]\n",
      "2023-07-04 16:35:05.740070: I tensorflow/core/common_runtime/executor.cc:1197] [/device:CPU:0] (DEBUG INFO) Executor start aborting (this does not indicate an error and you can ignore this message): INVALID_ARGUMENT: You must feed a value for placeholder tensor 'Placeholder/_0' with dtype double and shape [159502,300,1]\n",
      "\t [[{{node Placeholder/_0}}]]\n"
     ]
    },
    {
     "name": "stdout",
     "output_type": "stream",
     "text": [
      "3988/3988 [==============================] - 390s 97ms/step - loss: 0.1224 - accuracy: 0.9543 - val_loss: 0.1075 - val_accuracy: 0.9941\n",
      "Epoch 2/5\n",
      "3988/3988 [==============================] - 390s 98ms/step - loss: 0.1054 - accuracy: 0.9941 - val_loss: 0.0978 - val_accuracy: 0.9941\n",
      "Epoch 3/5\n",
      "3988/3988 [==============================] - 383s 96ms/step - loss: 0.0969 - accuracy: 0.9940 - val_loss: 0.0921 - val_accuracy: 0.9941\n",
      "Epoch 4/5\n",
      "3988/3988 [==============================] - 386s 97ms/step - loss: 0.0907 - accuracy: 0.9937 - val_loss: 0.0872 - val_accuracy: 0.9941\n",
      "Epoch 5/5\n",
      "3988/3988 [==============================] - 385s 97ms/step - loss: 0.0869 - accuracy: 0.9940 - val_loss: 0.0850 - val_accuracy: 0.9941\n"
     ]
    }
   ],
   "source": [
    "history = model.fit(\n",
    "    train,\n",
    "    batch_size=BATCH_SIZE,\n",
    "    validation_data=val,\n",
    "    verbose=1,\n",
    "    epochs=5,\n",
    "    callbacks=[callback]\n",
    ")"
   ]
  },
  {
   "cell_type": "code",
   "execution_count": 18,
   "metadata": {},
   "outputs": [],
   "source": [
    "model.save(\"model.h5\")"
   ]
  },
  {
   "cell_type": "code",
   "execution_count": 36,
   "metadata": {},
   "outputs": [],
   "source": [
    "acc = history.history['accuracy']\n",
    "val_acc = history.history['val_accuracy']\n",
    "\n",
    "loss = history.history['loss']\n",
    "val_loss = history.history['val_loss']"
   ]
  },
  {
   "cell_type": "code",
   "execution_count": 38,
   "metadata": {},
   "outputs": [
    {
     "name": "stdout",
     "output_type": "stream",
     "text": [
      "Defaulting to user installation because normal site-packages is not writeable\n",
      "Collecting matplotlib\n",
      "  Downloading matplotlib-3.7.1-cp310-cp310-manylinux_2_17_x86_64.manylinux2014_x86_64.whl (11.6 MB)\n",
      "\u001b[2K     \u001b[90m━━━━━━━━━━━━━━━━━━━━━━━━━━━━━━━━━━━━━━━━\u001b[0m \u001b[32m11.6/11.6 MB\u001b[0m \u001b[31m13.8 MB/s\u001b[0m eta \u001b[36m0:00:00\u001b[0m00:01\u001b[0m00:01\u001b[0m\n",
      "\u001b[?25hCollecting contourpy>=1.0.1 (from matplotlib)\n",
      "  Downloading contourpy-1.1.0-cp310-cp310-manylinux_2_17_x86_64.manylinux2014_x86_64.whl (300 kB)\n",
      "\u001b[2K     \u001b[90m━━━━━━━━━━━━━━━━━━━━━━━━━━━━━━━━━━━━━━━\u001b[0m \u001b[32m300.7/300.7 kB\u001b[0m \u001b[31m5.3 MB/s\u001b[0m eta \u001b[36m0:00:00\u001b[0m00:01\u001b[0m\n",
      "\u001b[?25hCollecting cycler>=0.10 (from matplotlib)\n",
      "  Downloading cycler-0.11.0-py3-none-any.whl (6.4 kB)\n",
      "Collecting fonttools>=4.22.0 (from matplotlib)\n",
      "  Downloading fonttools-4.40.0-cp310-cp310-manylinux_2_17_x86_64.manylinux2014_x86_64.whl (4.2 MB)\n",
      "\u001b[2K     \u001b[90m━━━━━━━━━━━━━━━━━━━━━━━━━━━━━━━━━━━━━━━━\u001b[0m \u001b[32m4.2/4.2 MB\u001b[0m \u001b[31m15.2 MB/s\u001b[0m eta \u001b[36m0:00:00\u001b[0m00:01\u001b[0m00:01\u001b[0m\n",
      "\u001b[?25hCollecting kiwisolver>=1.0.1 (from matplotlib)\n",
      "  Downloading kiwisolver-1.4.4-cp310-cp310-manylinux_2_12_x86_64.manylinux2010_x86_64.whl (1.6 MB)\n",
      "\u001b[2K     \u001b[90m━━━━━━━━━━━━━━━━━━━━━━━━━━━━━━━━━━━━━━━━\u001b[0m \u001b[32m1.6/1.6 MB\u001b[0m \u001b[31m5.6 MB/s\u001b[0m eta \u001b[36m0:00:00\u001b[0m00:01\u001b[0m00:01\u001b[0m\n",
      "\u001b[?25hRequirement already satisfied: numpy>=1.20 in /ext3/miniconda3/lib/python3.10/site-packages (from matplotlib) (1.23.5)\n",
      "Requirement already satisfied: packaging>=20.0 in /ext3/miniconda3/lib/python3.10/site-packages (from matplotlib) (23.0)\n",
      "Collecting pillow>=6.2.0 (from matplotlib)\n",
      "  Downloading Pillow-10.0.0-cp310-cp310-manylinux_2_28_x86_64.whl (3.4 MB)\n",
      "\u001b[2K     \u001b[90m━━━━━━━━━━━━━━━━━━━━━━━━━━━━━━━━━━━━━━━━\u001b[0m \u001b[32m3.4/3.4 MB\u001b[0m \u001b[31m7.4 MB/s\u001b[0m eta \u001b[36m0:00:00\u001b[0m00:01\u001b[0m00:01\u001b[0mm\n",
      "\u001b[?25hCollecting pyparsing>=2.3.1 (from matplotlib)\n",
      "  Downloading pyparsing-3.1.0-py3-none-any.whl (102 kB)\n",
      "\u001b[2K     \u001b[90m━━━━━━━━━━━━━━━━━━━━━━━━━━━━━━━━━━━━━━━\u001b[0m \u001b[32m102.6/102.6 kB\u001b[0m \u001b[31m2.9 MB/s\u001b[0m eta \u001b[36m0:00:00\u001b[0m\n",
      "\u001b[?25hRequirement already satisfied: python-dateutil>=2.7 in /ext3/miniconda3/lib/python3.10/site-packages (from matplotlib) (2.8.2)\n",
      "Requirement already satisfied: six>=1.5 in /ext3/miniconda3/lib/python3.10/site-packages (from python-dateutil>=2.7->matplotlib) (1.16.0)\n",
      "Installing collected packages: pyparsing, pillow, kiwisolver, fonttools, cycler, contourpy, matplotlib\n",
      "\u001b[33m  WARNING: The scripts fonttools, pyftmerge, pyftsubset and ttx are installed in '/home/rp3752/.local/bin' which is not on PATH.\n",
      "  Consider adding this directory to PATH or, if you prefer to suppress this warning, use --no-warn-script-location.\u001b[0m\u001b[33m\n",
      "\u001b[0mSuccessfully installed contourpy-1.1.0 cycler-0.11.0 fonttools-4.40.0 kiwisolver-1.4.4 matplotlib-3.7.1 pillow-10.0.0 pyparsing-3.1.0\n"
     ]
    }
   ],
   "source": [
    "!pip3 install matplotlib"
   ]
  },
  {
   "cell_type": "code",
   "execution_count": 39,
   "metadata": {},
   "outputs": [
    {
     "data": {
      "image/png": "[encoded data removed]",
      "text/plain": [
       "<Figure size 800x800 with 2 Axes>"
      ]
     },
     "metadata": {},
     "output_type": "display_data"
    }
   ],
   "source": [
    "import matplotlib.pyplot as plt\n",
    "plt.figure(figsize=(8, 8))\n",
    "plt.subplot(1, 2, 1)\n",
    "plt.plot(range(5), acc, label='Training Accuracy')\n",
    "plt.plot(range(5), val_acc, label='Validation Accuracy')\n",
    "plt.legend(loc='lower right')\n",
    "plt.title('Training and Validation Accuracy')\n",
    "\n",
    "plt.subplot(1, 2, 2)\n",
    "plt.plot(range(5), loss, label='Training Loss')\n",
    "plt.plot(range(5), val_loss, label='Validation Loss')\n",
    "plt.legend(loc='upper right')\n",
    "plt.title('Training and Validation Loss')\n",
    "plt.show()"
   ]
  },
  {
   "cell_type": "code",
   "execution_count": 25,
   "metadata": {},
   "outputs": [
    {
     "data": {
      "text/html": [
       "<div>\n",
       "<style scoped>\n",
       "    .dataframe tbody tr th:only-of-type {\n",
       "        vertical-align: middle;\n",
       "    }\n",
       "\n",
       "    .dataframe tbody tr th {\n",
       "        vertical-align: top;\n",
       "    }\n",
       "\n",
       "    .dataframe thead th {\n",
       "        text-align: right;\n",
       "    }\n",
       "</style>\n",
       "<table border=\"1\" class=\"dataframe\">\n",
       "  <thead>\n",
       "    <tr style=\"text-align: right;\">\n",
       "      <th></th>\n",
       "      <th>id</th>\n",
       "      <th>comment_text</th>\n",
       "      <th>toxic</th>\n",
       "      <th>severe_toxic</th>\n",
       "      <th>obscene</th>\n",
       "      <th>threat</th>\n",
       "      <th>insult</th>\n",
       "      <th>identity_hate</th>\n",
       "    </tr>\n",
       "  </thead>\n",
       "  <tbody>\n",
       "    <tr>\n",
       "      <th>5</th>\n",
       "      <td>0001ea8717f6de06</td>\n",
       "      <td>Thank you for understanding. I think very high...</td>\n",
       "      <td>0</td>\n",
       "      <td>0</td>\n",
       "      <td>0</td>\n",
       "      <td>0</td>\n",
       "      <td>0</td>\n",
       "      <td>0</td>\n",
       "    </tr>\n",
       "    <tr>\n",
       "      <th>7</th>\n",
       "      <td>000247e83dcc1211</td>\n",
       "      <td>:Dear god this site is horrible.</td>\n",
       "      <td>0</td>\n",
       "      <td>0</td>\n",
       "      <td>0</td>\n",
       "      <td>0</td>\n",
       "      <td>0</td>\n",
       "      <td>0</td>\n",
       "    </tr>\n",
       "    <tr>\n",
       "      <th>11</th>\n",
       "      <td>0002f87b16116a7f</td>\n",
       "      <td>\"::: Somebody will invariably try to add Relig...</td>\n",
       "      <td>0</td>\n",
       "      <td>0</td>\n",
       "      <td>0</td>\n",
       "      <td>0</td>\n",
       "      <td>0</td>\n",
       "      <td>0</td>\n",
       "    </tr>\n",
       "    <tr>\n",
       "      <th>13</th>\n",
       "      <td>0003e1cccfd5a40a</td>\n",
       "      <td>\" \\n\\n It says it right there that it IS a typ...</td>\n",
       "      <td>0</td>\n",
       "      <td>0</td>\n",
       "      <td>0</td>\n",
       "      <td>0</td>\n",
       "      <td>0</td>\n",
       "      <td>0</td>\n",
       "    </tr>\n",
       "    <tr>\n",
       "      <th>14</th>\n",
       "      <td>00059ace3e3e9a53</td>\n",
       "      <td>\" \\n\\n == Before adding a new product to the l...</td>\n",
       "      <td>0</td>\n",
       "      <td>0</td>\n",
       "      <td>0</td>\n",
       "      <td>0</td>\n",
       "      <td>0</td>\n",
       "      <td>0</td>\n",
       "    </tr>\n",
       "  </tbody>\n",
       "</table>\n",
       "</div>"
      ],
      "text/plain": [
       "                  id                                       comment_text  \\\n",
       "5   0001ea8717f6de06  Thank you for understanding. I think very high...   \n",
       "7   000247e83dcc1211                   :Dear god this site is horrible.   \n",
       "11  0002f87b16116a7f  \"::: Somebody will invariably try to add Relig...   \n",
       "13  0003e1cccfd5a40a  \" \\n\\n It says it right there that it IS a typ...   \n",
       "14  00059ace3e3e9a53  \" \\n\\n == Before adding a new product to the l...   \n",
       "\n",
       "    toxic  severe_toxic  obscene  threat  insult  identity_hate  \n",
       "5       0             0        0       0       0              0  \n",
       "7       0             0        0       0       0              0  \n",
       "11      0             0        0       0       0              0  \n",
       "13      0             0        0       0       0              0  \n",
       "14      0             0        0       0       0              0  "
      ]
     },
     "execution_count": 25,
     "metadata": {},
     "output_type": "execute_result"
    }
   ],
   "source": [
    "test_df.head()"
   ]
  },
  {
   "cell_type": "code",
   "execution_count": 34,
   "metadata": {},
   "outputs": [
    {
     "data": {
      "text/html": [
       "<div>\n",
       "<style scoped>\n",
       "    .dataframe tbody tr th:only-of-type {\n",
       "        vertical-align: middle;\n",
       "    }\n",
       "\n",
       "    .dataframe tbody tr th {\n",
       "        vertical-align: top;\n",
       "    }\n",
       "\n",
       "    .dataframe thead th {\n",
       "        text-align: right;\n",
       "    }\n",
       "</style>\n",
       "<table border=\"1\" class=\"dataframe\">\n",
       "  <thead>\n",
       "    <tr style=\"text-align: right;\">\n",
       "      <th></th>\n",
       "      <th>id</th>\n",
       "      <th>comment_text</th>\n",
       "      <th>toxic</th>\n",
       "      <th>severe_toxic</th>\n",
       "      <th>obscene</th>\n",
       "      <th>threat</th>\n",
       "      <th>insult</th>\n",
       "      <th>identity_hate</th>\n",
       "      <th>vector</th>\n",
       "    </tr>\n",
       "  </thead>\n",
       "  <tbody>\n",
       "    <tr>\n",
       "      <th>5</th>\n",
       "      <td>0001ea8717f6de06</td>\n",
       "      <td>Thank you for understanding. I think very high...</td>\n",
       "      <td>0</td>\n",
       "      <td>0</td>\n",
       "      <td>0</td>\n",
       "      <td>0</td>\n",
       "      <td>0</td>\n",
       "      <td>0</td>\n",
       "      <td>[-0.022064075, -0.016968763, -0.018042056, 0.0...</td>\n",
       "    </tr>\n",
       "    <tr>\n",
       "      <th>7</th>\n",
       "      <td>000247e83dcc1211</td>\n",
       "      <td>:Dear god this site is horrible.</td>\n",
       "      <td>0</td>\n",
       "      <td>0</td>\n",
       "      <td>0</td>\n",
       "      <td>0</td>\n",
       "      <td>0</td>\n",
       "      <td>0</td>\n",
       "      <td>[0.03476159, 0.024799943, 0.059744358, 0.03141...</td>\n",
       "    </tr>\n",
       "    <tr>\n",
       "      <th>11</th>\n",
       "      <td>0002f87b16116a7f</td>\n",
       "      <td>\"::: Somebody will invariably try to add Relig...</td>\n",
       "      <td>0</td>\n",
       "      <td>0</td>\n",
       "      <td>0</td>\n",
       "      <td>0</td>\n",
       "      <td>0</td>\n",
       "      <td>0</td>\n",
       "      <td>[0.03975314, 0.009037615, 0.0027374106, 0.0465...</td>\n",
       "    </tr>\n",
       "    <tr>\n",
       "      <th>13</th>\n",
       "      <td>0003e1cccfd5a40a</td>\n",
       "      <td>\" \\n\\n It says it right there that it IS a typ...</td>\n",
       "      <td>0</td>\n",
       "      <td>0</td>\n",
       "      <td>0</td>\n",
       "      <td>0</td>\n",
       "      <td>0</td>\n",
       "      <td>0</td>\n",
       "      <td>[-0.0138501525, -0.010836502, 0.007534697, 0.0...</td>\n",
       "    </tr>\n",
       "    <tr>\n",
       "      <th>14</th>\n",
       "      <td>00059ace3e3e9a53</td>\n",
       "      <td>\" \\n\\n == Before adding a new product to the l...</td>\n",
       "      <td>0</td>\n",
       "      <td>0</td>\n",
       "      <td>0</td>\n",
       "      <td>0</td>\n",
       "      <td>0</td>\n",
       "      <td>0</td>\n",
       "      <td>[-0.014439457, 0.012818056, -0.004410764, 0.03...</td>\n",
       "    </tr>\n",
       "  </tbody>\n",
       "</table>\n",
       "</div>"
      ],
      "text/plain": [
       "                  id                                       comment_text  \\\n",
       "5   0001ea8717f6de06  Thank you for understanding. I think very high...   \n",
       "7   000247e83dcc1211                   :Dear god this site is horrible.   \n",
       "11  0002f87b16116a7f  \"::: Somebody will invariably try to add Relig...   \n",
       "13  0003e1cccfd5a40a  \" \\n\\n It says it right there that it IS a typ...   \n",
       "14  00059ace3e3e9a53  \" \\n\\n == Before adding a new product to the l...   \n",
       "\n",
       "    toxic  severe_toxic  obscene  threat  insult  identity_hate  \\\n",
       "5       0             0        0       0       0              0   \n",
       "7       0             0        0       0       0              0   \n",
       "11      0             0        0       0       0              0   \n",
       "13      0             0        0       0       0              0   \n",
       "14      0             0        0       0       0              0   \n",
       "\n",
       "                                               vector  \n",
       "5   [-0.022064075, -0.016968763, -0.018042056, 0.0...  \n",
       "7   [0.03476159, 0.024799943, 0.059744358, 0.03141...  \n",
       "11  [0.03975314, 0.009037615, 0.0027374106, 0.0465...  \n",
       "13  [-0.0138501525, -0.010836502, 0.007534697, 0.0...  \n",
       "14  [-0.014439457, 0.012818056, -0.004410764, 0.03...  "
      ]
     },
     "execution_count": 34,
     "metadata": {},
     "output_type": "execute_result"
    }
   ],
   "source": [
    "# test_x = test_df[\"comment_text\"]\n",
    "test_df[\"vector\"] = test_df[\"comment_text\"].apply(lambda x: preprocess(x))\n",
    "test_df.head()"
   ]
  },
  {
   "cell_type": "code",
   "execution_count": 35,
   "metadata": {},
   "outputs": [
    {
     "data": {
      "text/plain": [
       "63978"
      ]
     },
     "execution_count": 35,
     "metadata": {},
     "output_type": "execute_result"
    }
   ],
   "source": [
    "len(test_df)"
   ]
  },
  {
   "cell_type": "code",
   "execution_count": 40,
   "metadata": {},
   "outputs": [
    {
     "data": {
      "text/plain": [
       "63928"
      ]
     },
     "execution_count": 40,
     "metadata": {},
     "output_type": "execute_result"
    }
   ],
   "source": [
    "test_df = test_df[~(test_df[\"vector\"].apply(lambda x: (x==null_np).sum()==300))]\n",
    "len(test_df)"
   ]
  },
  {
   "cell_type": "code",
   "execution_count": 45,
   "metadata": {},
   "outputs": [
    {
     "data": {
      "text/plain": [
       "array([array([-2.20640749e-02, -1.69687625e-02, -1.80420559e-02,  5.26679344e-02,\n",
       "              -1.80269796e-02, -5.64268976e-03,  2.26485040e-02, -5.20094298e-02,\n",
       "               4.19337042e-02, -1.11503853e-02, -3.55254374e-02, -1.62703451e-02,\n",
       "              -1.13468198e-02,  3.12178880e-02, -3.44821475e-02,  5.89756258e-02,\n",
       "               2.83041690e-02,  7.32491314e-02, -7.36569194e-03, -2.64879763e-02,\n",
       "               5.32849431e-02,  8.41314439e-03,  2.94281896e-02,  9.26352746e-04,\n",
       "               4.44330312e-02,  1.64953526e-02,  3.90167278e-03,  3.24580190e-03,\n",
       "               1.19540943e-02, -2.31709681e-03, -2.94012446e-02, -1.66533049e-02,\n",
       "              -3.42873894e-02,  6.38197958e-02,  3.70938368e-02,  1.67140421e-02,\n",
       "               2.98279449e-02, -8.97784426e-04,  1.39931040e-02,  2.35155299e-02,\n",
       "               2.91930120e-02,  4.93865972e-03,  2.79434826e-02,  5.63342823e-03,\n",
       "              -4.35997397e-02, -2.72390693e-02, -1.66247915e-02, -1.66457035e-02,\n",
       "              -3.20283435e-02,  1.13223717e-02, -5.48429787e-03,  1.40683760e-03,\n",
       "              -3.20920758e-02, -4.72712107e-02,  1.33822421e-02,  4.83920872e-02,\n",
       "              -8.40252079e-03, -4.24126163e-03,  2.44817883e-02, -2.94326935e-02,\n",
       "              -5.75553142e-02,  1.90077182e-02, -5.18723093e-02,  1.01792635e-02,\n",
       "              -2.37953048e-02,  1.10904500e-02, -4.24134433e-02,  5.23780473e-02,\n",
       "               1.36062531e-02,  9.77493450e-03,  8.36617406e-03, -1.60534622e-03,\n",
       "               4.09438126e-02, -3.30209755e-03, -4.17920351e-02, -6.52847588e-02,\n",
       "               4.57685404e-02,  3.83179523e-02,  3.67806293e-02,  9.03489962e-02,\n",
       "               6.66180579e-03, -6.87428890e-03,  5.52386157e-02,  2.00251918e-02,\n",
       "              -1.65270474e-02, -1.86152421e-02, -5.49098216e-02,  3.42603661e-02,\n",
       "               5.14034070e-02,  1.38595002e-03,  2.40452830e-02, -9.79341287e-03,\n",
       "              -3.29284333e-02,  2.16292366e-02,  2.67621893e-02, -5.22447713e-02,\n",
       "              -3.15105100e-03,  1.49969533e-02,  1.43170832e-02, -1.09072672e-02,\n",
       "              -4.02066000e-02, -1.74291860e-02,  1.98765565e-02,  5.60628623e-02,\n",
       "               8.20259470e-03,  1.31852152e-02, -2.77354773e-02, -3.07723787e-02,\n",
       "              -1.31040737e-02, -3.84168662e-02, -2.06989143e-02, -9.51761380e-03,\n",
       "              -2.14176271e-02, -4.51690843e-03,  3.06380745e-02, -4.25700396e-02,\n",
       "               2.81192884e-02, -2.13040989e-02,  5.04364185e-02,  6.27629831e-03,\n",
       "              -1.73251461e-02,  3.67439422e-03, -1.20016634e-02,  8.02389085e-02,\n",
       "              -5.66385128e-02, -1.94700863e-02, -3.41908894e-02,  2.70645064e-03,\n",
       "               1.42621994e-03,  1.01887072e-02, -9.22940206e-03, -8.42930675e-02,\n",
       "              -4.40765135e-02,  1.35202818e-02,  3.18797641e-02, -1.61288753e-02,\n",
       "               2.76536942e-02, -7.69562833e-03, -1.73792560e-02,  4.17833477e-02,\n",
       "               1.88266691e-02, -1.54231489e-02, -2.88523342e-02, -2.93736216e-02,\n",
       "               2.38719825e-02,  1.32267669e-04, -9.85947531e-03, -4.33218963e-02,\n",
       "               1.73817724e-02, -7.46369874e-03,  9.33275651e-03,  2.26328080e-03,\n",
       "              -3.55532877e-02,  2.33421233e-02, -3.95573815e-03, -3.75164188e-02,\n",
       "               3.59226055e-02, -2.92339120e-02, -5.55084646e-02, -2.35119890e-02,\n",
       "               2.02799384e-02,  2.47098058e-02, -2.02787551e-03,  1.27625344e-05,\n",
       "               1.10696638e-02, -3.37801836e-02,  2.14360729e-02, -2.03189868e-02,\n",
       "              -1.59246381e-02,  1.74438935e-02, -1.44499270e-02,  2.52344739e-02,\n",
       "               1.80980656e-02, -1.52342217e-02,  3.62785608e-02, -9.81748663e-03,\n",
       "               2.91774627e-02, -2.46818196e-02, -2.01108959e-02, -2.81590447e-02,\n",
       "              -2.98392195e-02,  7.53165549e-03,  5.28839678e-02,  5.64274788e-02,\n",
       "              -2.21943855e-02, -2.83016148e-03, -3.09381206e-02, -4.42368910e-03,\n",
       "               1.99230965e-02,  3.97523940e-02, -4.39339429e-02, -1.96146537e-02,\n",
       "               4.90822531e-02, -9.78526007e-03,  6.12790650e-03, -4.47946787e-02,\n",
       "               3.79888969e-03,  2.39907727e-02,  2.96974811e-03, -3.24287675e-02,\n",
       "               1.79229025e-02,  2.71084961e-02, -2.41116006e-02, -2.04289183e-02,\n",
       "              -2.17370018e-02, -3.01252995e-02, -3.17030400e-02, -1.20977210e-02,\n",
       "               1.90322718e-03, -1.94805004e-02,  1.39986053e-02,  9.79685877e-03,\n",
       "               1.79507099e-02, -1.78731326e-02, -3.91086526e-02, -1.90066230e-02,\n",
       "               6.28065318e-02, -1.25272013e-02,  6.95361057e-03, -4.61663352e-03,\n",
       "              -1.89155545e-02, -2.96623465e-02, -6.56556264e-02,  2.61525251e-03,\n",
       "               3.93759347e-02, -6.31889030e-02,  3.23636122e-02, -1.46592902e-02,\n",
       "              -5.76581759e-03,  6.38430007e-03,  5.26733056e-04, -2.24833637e-02,\n",
       "               9.55467764e-03, -4.63379547e-04,  1.43868523e-02, -1.52185059e-03,\n",
       "              -4.89281630e-03, -1.65092219e-02,  4.69254814e-02,  3.43741849e-04,\n",
       "              -8.54037143e-03,  1.35131797e-03, -2.51733065e-02,  4.44520218e-03,\n",
       "              -5.04011624e-02,  2.22438965e-02,  2.28586178e-02,  3.82979549e-02,\n",
       "               1.29269212e-02,  1.12341335e-02,  4.20185132e-03,  5.55182099e-02,\n",
       "              -1.55260414e-02,  3.03933937e-02,  9.56111215e-03,  1.32787973e-04,\n",
       "              -1.34770023e-02,  4.06107008e-02, -4.25380915e-02,  6.73207745e-04,\n",
       "               3.08126006e-02, -2.30538901e-02, -3.12240031e-02,  3.03984135e-02,\n",
       "              -1.31760836e-02,  4.44705077e-02,  3.15040722e-02, -2.05118600e-02,\n",
       "              -7.27178976e-02,  6.10474078e-03, -1.85887460e-02,  1.68303736e-02,\n",
       "               4.96981889e-02, -1.04926527e-03,  5.24219610e-02,  1.86843053e-03,\n",
       "              -5.25509268e-02, -1.35398880e-02, -3.03876381e-02,  3.12766363e-03,\n",
       "               5.74426167e-02,  1.29656726e-02, -6.87549182e-04,  4.14481126e-02,\n",
       "               2.90806759e-02, -1.22592719e-02, -4.06281613e-02, -9.63647559e-04,\n",
       "               1.81902349e-02, -8.42459872e-03, -1.45680942e-02,  1.70635190e-02,\n",
       "               1.45847322e-02,  4.18707961e-03, -1.90680642e-02, -2.96852589e-02,\n",
       "              -1.74234826e-02, -3.13577838e-02,  1.63909551e-02,  6.48255274e-03],\n",
       "             dtype=float32)                                                       ,\n",
       "       array([ 3.47615890e-02,  2.47999430e-02,  5.97443581e-02,  3.14181000e-02,\n",
       "              -2.94625573e-02,  5.13206571e-02,  5.40986322e-02, -2.60232855e-02,\n",
       "               5.76242730e-02,  3.83068547e-02, -4.13471982e-02, -3.36499289e-02,\n",
       "              -6.52085990e-02, -7.36879511e-03, -1.62906013e-02,  4.35408950e-02,\n",
       "               5.15636988e-03,  1.21799186e-02, -2.20863856e-02, -2.22487450e-02,\n",
       "               5.73648438e-02,  2.63810400e-02,  3.42901349e-02,  8.25850759e-03,\n",
       "               6.70471564e-02,  3.48643772e-03, -1.03275552e-02,  2.94131264e-02,\n",
       "               4.03998345e-02, -1.15980379e-01,  1.46160107e-02, -1.79125573e-02,\n",
       "              -2.27976274e-02,  2.22409610e-02, -2.18592002e-03,  9.04288702e-03,\n",
       "               4.94991243e-02, -2.69792080e-02,  4.36652973e-02, -1.65171288e-02,\n",
       "               2.76861060e-02, -1.31457765e-03,  9.64410752e-02, -3.66083197e-02,\n",
       "               1.32868607e-02, -6.56693205e-02,  1.65838283e-02,  3.18901241e-02,\n",
       "              -1.45629430e-02, -4.88043427e-02, -6.50804769e-03,  3.86850461e-02,\n",
       "               2.05362029e-02, -1.52462907e-03, -7.18255388e-03, -2.89850198e-02,\n",
       "              -5.49070612e-02, -4.02404647e-03,  3.03334668e-02, -4.30860929e-02,\n",
       "               4.63116840e-02,  3.46481204e-02,  1.39846886e-02, -9.58580524e-03,\n",
       "              -3.84914279e-02, -2.63777822e-02, -1.41253304e-02, -4.78505436e-03,\n",
       "              -4.85362187e-02,  4.11891080e-02,  2.47836467e-02, -1.33796735e-02,\n",
       "              -3.46804559e-02, -2.14852244e-02, -1.19402051e-01, -1.89368911e-02,\n",
       "              -2.56680362e-02,  6.12767553e-03,  2.06378810e-02,  5.20820394e-02,\n",
       "              -3.26156337e-03,  9.27040353e-03,  1.98879465e-02, -3.16820107e-02,\n",
       "              -3.61564159e-02,  7.42932688e-03, -3.02509014e-02,  5.21026403e-02,\n",
       "               1.04478002e-02,  4.32580104e-03,  1.79099571e-02, -1.39274076e-02,\n",
       "              -5.30653037e-02, -4.03626151e-02, -1.90492310e-02,  4.39581238e-02,\n",
       "              -1.19171916e-02, -8.01894628e-03,  6.55204579e-02, -2.30530761e-02,\n",
       "              -3.79085205e-02,  4.03790399e-02,  3.47006284e-02, -6.44211993e-02,\n",
       "              -2.65099499e-02,  6.61690021e-04, -5.91529906e-02,  3.12924385e-05,\n",
       "               1.13254618e-02, -4.26893979e-02, -1.19510638e-02,  1.92332752e-02,\n",
       "               3.14123593e-02,  6.31512888e-03,  8.99786949e-02, -4.61302474e-02,\n",
       "               1.11065609e-02, -2.54420955e-02, -1.12481778e-02,  2.99523808e-02,\n",
       "              -6.36200160e-02, -3.55747854e-03, -4.26563993e-02,  1.49286911e-03,\n",
       "              -3.57007533e-02, -6.68492168e-03, -2.27520745e-02, -4.01487611e-02,\n",
       "               4.78584096e-02, -2.80411122e-03, -6.84288591e-02, -3.86155136e-02,\n",
       "              -4.54447195e-02,  7.80153368e-03,  2.65891980e-02, -5.07758036e-02,\n",
       "              -1.26019381e-02,  3.22892005e-03,  3.54453102e-02,  5.48954774e-03,\n",
       "               1.06666218e-02,  1.06908558e-02,  2.84014493e-02, -2.46478245e-03,\n",
       "               2.07393616e-02, -4.26268503e-02, -7.27133779e-03, -1.09271109e-02,\n",
       "              -3.76069024e-02, -8.36724788e-02,  8.38985890e-02,  2.65598428e-02,\n",
       "               2.53508054e-03,  6.41507953e-02, -6.16161376e-02, -3.02533843e-02,\n",
       "               1.57506578e-03,  1.24196820e-02, -7.45409168e-04, -2.18439475e-02,\n",
       "              -1.61404982e-02,  1.39350090e-02,  4.34275456e-02,  4.78839502e-05,\n",
       "               1.97024550e-02, -3.55971158e-02,  1.61562841e-02, -3.47097069e-02,\n",
       "              -5.51276356e-02,  1.14215789e-02,  1.79259628e-02,  3.66948396e-02,\n",
       "               3.58432494e-02, -1.64309926e-02, -1.74676254e-02, -4.15206924e-02,\n",
       "               3.08315083e-02, -2.00569574e-02,  2.22892463e-02, -2.60529779e-02,\n",
       "              -1.78450141e-02, -4.54148054e-02,  2.87348963e-02, -6.51173014e-03,\n",
       "               3.74178123e-03,  3.27320509e-02, -5.37314415e-02,  2.45618392e-02,\n",
       "               5.52092530e-02,  4.05195961e-03, -2.23043188e-03,  7.38357008e-02,\n",
       "               8.19312409e-05,  6.31461851e-03, -3.41960043e-02,  3.83934863e-02,\n",
       "               1.66720860e-02, -1.41551830e-02, -4.85236272e-02, -4.72481474e-02,\n",
       "              -1.86919495e-02,  4.36421670e-02, -2.43839324e-02, -5.60372807e-02,\n",
       "               4.38639708e-02, -2.19982918e-02, -2.40104049e-02,  3.51568535e-02,\n",
       "              -4.24906313e-02, -1.10894609e-02, -1.44902347e-02,  5.50060160e-03,\n",
       "              -5.25450110e-02, -3.47698368e-02, -2.81677600e-02, -7.51351984e-03,\n",
       "               1.96095146e-02, -3.92260291e-02, -3.05492729e-02,  9.10957623e-03,\n",
       "               1.75649337e-02,  3.19400206e-02,  2.14404967e-02, -3.32187340e-02,\n",
       "               1.59189291e-02, -4.74789813e-02,  3.99989914e-03,  6.68239314e-03,\n",
       "              -3.75564471e-02, -1.94359850e-02, -4.88573918e-03,  4.60713310e-03,\n",
       "               1.85231417e-02,  3.05347648e-02,  6.83286488e-02,  1.58128925e-02,\n",
       "              -4.78976686e-03, -1.16518233e-02,  3.96291167e-02,  1.03092026e-02,\n",
       "               5.26420102e-02, -9.47978348e-03, -2.55866870e-02, -6.68518320e-02,\n",
       "              -1.20633272e-02,  8.07095692e-03,  4.31230739e-02,  2.07317006e-02,\n",
       "              -6.09933287e-02, -3.73528376e-02, -1.00066150e-02,  5.34119308e-02,\n",
       "               5.06473295e-02,  1.12336138e-02,  2.88873278e-02, -1.05362415e-01,\n",
       "              -2.37797964e-02,  3.28042582e-02, -1.82697382e-02, -8.27230811e-02,\n",
       "              -7.94396736e-03, -1.43312952e-02,  3.88248712e-02,  4.92220931e-03,\n",
       "               1.10244341e-02,  1.69166811e-02, -1.40964240e-02, -5.60073880e-03,\n",
       "               4.09412291e-03,  3.62606980e-02, -1.77571457e-02,  2.15346292e-02,\n",
       "               2.44324394e-02,  1.13006067e-02, -3.27365519e-03, -2.64707096e-02,\n",
       "              -1.83962146e-03, -1.92196164e-02, -2.16128640e-02,  3.21696810e-02,\n",
       "               2.45455969e-02,  2.31353007e-03, -6.65293820e-03,  4.99915630e-02,\n",
       "               1.06002260e-02,  1.50317773e-02, -4.58296388e-02, -9.55767464e-03,\n",
       "              -2.92255934e-02,  8.86391755e-03,  2.10686233e-02,  2.40758676e-02,\n",
       "              -4.31175642e-02,  3.72122824e-02, -2.57085040e-02, -2.76646614e-02,\n",
       "              -3.29036787e-02, -5.00608124e-02, -3.61283571e-02,  3.18048447e-02],\n",
       "             dtype=float32)                                                       ,\n",
       "       array([ 3.97531390e-02,  9.03761480e-03,  2.73741060e-03,  4.65799905e-02,\n",
       "              -3.27035189e-02, -3.01453564e-03,  2.36514434e-02, -1.91464964e-02,\n",
       "               3.46178524e-02,  2.15489790e-02, -1.66391768e-02, -4.96058799e-02,\n",
       "              -1.21931368e-02,  3.44371051e-02, -5.17842844e-02,  3.15696932e-02,\n",
       "               1.73875783e-02,  3.28112245e-02,  1.52434027e-02, -2.71537025e-02,\n",
       "               1.07801035e-02, -9.63859900e-04,  1.87806860e-02,  1.90737552e-03,\n",
       "               1.75215174e-02, -1.06697809e-02, -3.48461866e-02,  1.86872650e-02,\n",
       "               1.34053873e-02,  3.14111635e-03, -5.28021576e-03, -9.06615239e-03,\n",
       "              -2.69038379e-02,  4.25238488e-03,  1.29048722e-02,  1.23190589e-03,\n",
       "               3.17069329e-02,  1.19782137e-02,  1.34489341e-02,  3.08079422e-02,\n",
       "               5.68974949e-02, -2.64112442e-03,  4.31284942e-02,  5.21944137e-03,\n",
       "              -2.61873994e-02, -2.49782745e-02, -7.10800930e-04, -1.20628811e-02,\n",
       "               1.06657809e-03, -9.19119979e-04, -8.89750011e-03,  9.31778084e-03,\n",
       "              -2.40843818e-02, -2.36893222e-02,  1.79316048e-02,  1.32906921e-02,\n",
       "              -1.74858235e-02, -2.12959833e-02,  2.79844040e-03, -3.83801088e-02,\n",
       "               3.29893380e-02,  1.46117611e-02, -9.80037916e-03, -2.32692156e-02,\n",
       "              -1.08161615e-03, -5.04572317e-03, -3.83263491e-02,  3.86434756e-02,\n",
       "              -3.12384535e-02,  2.21979395e-02,  9.40033421e-03,  2.03252323e-02,\n",
       "               1.71449203e-02, -8.68719537e-03, -5.67065664e-02, -4.62401360e-02,\n",
       "               1.36363721e-02,  2.08523404e-02,  1.18189324e-02,  3.71897668e-02,\n",
       "              -6.35199342e-03, -2.30834708e-02,  1.48657151e-02, -3.90805537e-03,\n",
       "              -2.31137201e-02, -1.97443273e-02, -2.81533040e-02,  4.84662242e-02,\n",
       "               1.59697374e-03, -2.72792618e-04,  2.65639685e-02,  1.12518705e-02,\n",
       "              -3.77704911e-02, -3.66035216e-02, -1.16082393e-02, -2.25461647e-02,\n",
       "               2.68221255e-02,  2.23318972e-02,  1.05349002e-02, -1.11786611e-02,\n",
       "              -2.16985904e-02,  7.92726059e-04,  1.14175221e-02, -5.04843052e-03,\n",
       "              -1.54905813e-02, -2.31467020e-02, -1.64624490e-02, -1.41605604e-02,\n",
       "               1.84333213e-02, -3.00269034e-02, -2.97070108e-02, -9.97131411e-03,\n",
       "              -7.12233968e-03, -1.63606517e-02,  3.03433873e-02, -5.93254901e-03,\n",
       "               1.64331645e-02, -8.39174446e-03,  2.53081322e-02,  2.30779275e-02,\n",
       "              -2.14718282e-02,  1.36670219e-02, -2.13931240e-02,  2.86069307e-02,\n",
       "              -3.35670374e-02,  9.52053815e-05, -1.73448995e-02,  1.01349469e-04,\n",
       "               4.96644340e-03, -3.15653277e-03, -2.69859415e-02, -3.46752368e-02,\n",
       "              -2.41310839e-02,  1.68703515e-02, -7.26580387e-04, -1.51227750e-02,\n",
       "               1.06512690e-02,  5.85944299e-03,  1.46238012e-02,  6.64843060e-03,\n",
       "               3.33037823e-02, -2.05071047e-02,  5.90818655e-03,  9.91562661e-03,\n",
       "               2.71633863e-02, -9.64492466e-03, -6.38018968e-03, -3.13041918e-02,\n",
       "              -1.52661838e-02, -3.12579051e-03,  3.03681660e-02,  8.11197329e-03,\n",
       "              -2.96338331e-02,  1.18064331e-02, -6.97822217e-03, -2.46993992e-02,\n",
       "              -2.37882603e-02, -4.18815315e-02, -2.88685299e-02, -2.33033132e-02,\n",
       "              -7.30523560e-03,  1.93984285e-02,  1.96554679e-02, -1.72929745e-02,\n",
       "               9.70986020e-03, -3.48907150e-02,  2.34996080e-02, -1.54448189e-02,\n",
       "               4.01029363e-03, -2.08277106e-02, -3.99390347e-02, -7.69541599e-03,\n",
       "              -8.06920882e-03, -3.27276811e-02,  2.61937408e-03, -1.59340035e-02,\n",
       "               3.68050188e-02, -4.44045328e-02, -8.60322174e-03,  1.61992088e-02,\n",
       "              -3.80040295e-02, -4.69138175e-02, -2.37696990e-03,  1.12913651e-02,\n",
       "              -1.96279064e-02,  4.04974725e-03,  5.06658806e-03, -5.99748688e-03,\n",
       "               1.45797096e-02,  4.82432079e-03,  2.15326790e-02,  1.30621134e-03,\n",
       "               1.14685390e-02, -2.23022327e-03, -4.57486417e-03,  1.06403213e-02,\n",
       "              -7.24771619e-03, -1.97934103e-03, -3.24329548e-02, -3.15136760e-02,\n",
       "               9.86706745e-03,  2.19347868e-02, -2.56181192e-02,  4.71656723e-03,\n",
       "               1.64700241e-03,  8.64282344e-03, -7.79909082e-03,  1.30214752e-03,\n",
       "              -7.87433144e-03, -1.87965669e-02, -1.38699682e-02,  8.17146618e-03,\n",
       "              -2.31187772e-02,  5.64746000e-03, -4.71569113e-02, -1.33882073e-04,\n",
       "               2.86059808e-02,  2.00835112e-02, -2.03234684e-02, -2.51287445e-02,\n",
       "              -1.77157670e-02,  7.61727570e-03, -1.26816593e-02, -3.77734803e-04,\n",
       "               1.95121076e-02,  3.97782493e-03,  3.32304090e-02,  1.41449533e-02,\n",
       "               2.45256349e-03, -6.24525407e-03,  1.57972891e-02,  4.81872167e-03,\n",
       "              -6.29776856e-03,  1.53109580e-02,  1.86934676e-02, -2.22418713e-03,\n",
       "               1.41708935e-02, -1.39278024e-02,  2.47196890e-02,  4.84388135e-03,\n",
       "              -1.11316172e-02,  2.21555005e-03,  5.57429902e-03, -4.27269898e-02,\n",
       "              -9.93310846e-03,  1.56916361e-02,  3.84363113e-03,  4.01709341e-02,\n",
       "              -2.35399846e-02, -1.65283203e-03, -3.86864273e-03,  8.35049618e-03,\n",
       "               7.08286278e-03,  2.67069601e-02,  3.10632121e-02, -2.55480465e-02,\n",
       "              -1.26654245e-02, -3.30993044e-03,  1.41192426e-03, -7.00988108e-03,\n",
       "               5.70217520e-03,  2.15790607e-03, -2.70763356e-02,  7.79010775e-03,\n",
       "               5.63849276e-03,  2.30238568e-02, -7.81759247e-03, -1.35223800e-02,\n",
       "              -2.83546541e-02, -2.00452469e-02,  2.23722262e-03,  3.56735997e-02,\n",
       "               3.24501060e-02,  2.07059849e-02,  9.33348853e-03, -3.42639796e-02,\n",
       "              -1.56571195e-02, -3.70165557e-02, -1.45259900e-02,  1.31350867e-02,\n",
       "               4.89971787e-03, -4.73318528e-03,  7.57427420e-03,  3.69630009e-02,\n",
       "               1.08137755e-02,  1.37241017e-02, -3.75636071e-02, -2.35115886e-02,\n",
       "               2.30733049e-03, -4.72279731e-03, -9.93229542e-03,  3.41327861e-02,\n",
       "              -2.90402342e-02,  2.43241396e-02, -3.05691734e-02, -1.47078997e-02,\n",
       "              -1.74648082e-03, -1.81382969e-02,  2.02584118e-02, -6.57892646e-03],\n",
       "             dtype=float32)                                                       ,\n",
       "       ...,\n",
       "       array([ 0.00142301,  0.010695  ,  0.00998756,  0.07190917, -0.02777135,\n",
       "               0.01542635,  0.02607262, -0.0112576 ,  0.02180525,  0.01076651,\n",
       "              -0.04438011, -0.04657976, -0.04869534,  0.04341313,  0.00765252,\n",
       "               0.0658402 ,  0.00447454,  0.07778581, -0.04679335, -0.07106204,\n",
       "              -0.02542284,  0.01338319,  0.02773317, -0.00802319, -0.0053694 ,\n",
       "               0.01600403, -0.05864121,  0.05450689,  0.01264412, -0.01018755,\n",
       "               0.02487232,  0.01262093, -0.02284542, -0.0334475 , -0.01814198,\n",
       "               0.00698911, -0.00802519,  0.04879141, -0.01269486,  0.0393823 ,\n",
       "               0.02416752, -0.01554191,  0.05085057, -0.00580445, -0.00767629,\n",
       "              -0.01054982, -0.01243889, -0.02294381, -0.03734573,  0.01725279,\n",
       "              -0.03872358,  0.02588214,  0.00051521,  0.02163295,  0.01523059,\n",
       "              -0.01232535, -0.06549602, -0.02186139,  0.01180276, -0.02608013,\n",
       "               0.00317759,  0.02129433, -0.05247647, -0.0454242 , -0.02314186,\n",
       "              -0.07637592, -0.02160687,  0.03680445,  0.00959366,  0.02852296,\n",
       "              -0.00174469,  0.05633495, -0.01392482,  0.0208438 , -0.02417021,\n",
       "              -0.02518428,  0.04152299,  0.0332958 ,  0.00983827,  0.03393866,\n",
       "              -0.04993222,  0.01404866, -0.00049108,  0.03618795, -0.00053937,\n",
       "              -0.03179484, -0.04089332,  0.01408032,  0.03775815,  0.01289731,\n",
       "               0.01496255, -0.01141833, -0.04505935, -0.0479762 , -0.00639136,\n",
       "              -0.02712491,  0.04052349,  0.02751555, -0.01572623, -0.01926228,\n",
       "              -0.00706565,  0.03363099,  0.00247125,  0.00659971, -0.00376295,\n",
       "               0.05911822, -0.00539564, -0.01914566,  0.02344151, -0.02574272,\n",
       "              -0.07765514, -0.0255891 ,  0.01486292, -0.03346466,  0.03454958,\n",
       "               0.00839567,  0.00067267, -0.05925252,  0.02812302,  0.02456196,\n",
       "              -0.01204278,  0.00745587, -0.03187307,  0.04778006,  0.01346807,\n",
       "              -0.04299662, -0.02150265, -0.0092124 ,  0.00772097, -0.03276318,\n",
       "               0.0117084 , -0.0247889 , -0.04007411,  0.02975699,  0.01870732,\n",
       "              -0.00061609,  0.00019586,  0.02891737,  0.02454786,  0.00390805,\n",
       "               0.03733522, -0.05833994, -0.00098478, -0.0502141 , -0.01643381,\n",
       "              -0.01821711, -0.00938891,  0.00073399, -0.00676344, -0.04219899,\n",
       "               0.07151849, -0.0438462 , -0.00558547, -0.02260423, -0.00243317,\n",
       "               0.01497775, -0.04965091,  0.01365076, -0.00255181, -0.07024325,\n",
       "               0.00754056,  0.02291893,  0.02938865,  0.00919478,  0.02415356,\n",
       "              -0.04590918,  0.00416246,  0.00759314, -0.0298271 ,  0.0258275 ,\n",
       "              -0.03847712, -0.02305612, -0.02046879, -0.02039315, -0.00505809,\n",
       "               0.01316307,  0.01671934, -0.05511997,  0.00772086, -0.01272459,\n",
       "              -0.01395057,  0.01208483, -0.00127542,  0.02101296, -0.01676582,\n",
       "               0.0136574 , -0.03176851, -0.01952792,  0.01074958,  0.02478188,\n",
       "               0.04928822, -0.0012425 , -0.01222658,  0.01765873,  0.03430034,\n",
       "               0.00079786,  0.00205145,  0.01275875,  0.01221576, -0.04654711,\n",
       "              -0.02013284,  0.04829293, -0.02039988, -0.04840106, -0.02275549,\n",
       "               0.00024826, -0.02428214,  0.02044139, -0.00876469, -0.00418027,\n",
       "              -0.0002512 ,  0.03891399, -0.01335592, -0.02246722, -0.08829016,\n",
       "              -0.01486755,  0.03519484, -0.01807997, -0.00849894, -0.01726264,\n",
       "              -0.05242721, -0.01796351,  0.01014586, -0.00786631, -0.01317347,\n",
       "               0.00339728,  0.04576495,  0.03264745, -0.00372506,  0.00045851,\n",
       "               0.00656363, -0.0297054 , -0.03994722,  0.06391633,  0.0391062 ,\n",
       "              -0.01570103,  0.010165  ,  0.02904725,  0.07097968,  0.02854572,\n",
       "              -0.002978  , -0.02282977,  0.02489537,  0.00635893, -0.02143339,\n",
       "               0.02597555,  0.01842282,  0.08911794, -0.01771872, -0.02162865,\n",
       "              -0.0043808 ,  0.01922614,  0.03697727,  0.03025558,  0.01960162,\n",
       "              -0.0323863 , -0.01533796,  0.00580027,  0.02683749, -0.01889667,\n",
       "              -0.01652717,  0.02992115,  0.008527  ,  0.01187082,  0.02249919,\n",
       "               0.01648722,  0.02183124,  0.02254517, -0.00832132, -0.02154795,\n",
       "              -0.00228738,  0.04004424,  0.00829393, -0.01585868, -0.00019545,\n",
       "              -0.04716673, -0.05805786, -0.02451826, -0.06425364,  0.03214183,\n",
       "              -0.03333292, -0.00801507,  0.01697954,  0.02079865,  0.00115864,\n",
       "              -0.01405945, -0.01961769, -0.00517682, -0.03920447, -0.01961621,\n",
       "               0.00672703,  0.06466852, -0.01935135,  0.03459128, -0.02808173,\n",
       "              -0.02244083, -0.01033451, -0.0266683 , -0.03585795,  0.05394427],\n",
       "             dtype=float32)                                                    ,\n",
       "       array([ 0.00388618, -0.0045187 ,  0.02629852,  0.04648507, -0.02071499,\n",
       "              -0.02209933, -0.03341325, -0.00722352,  0.00732641,  0.03210377,\n",
       "              -0.00379787, -0.0469448 , -0.01798677,  0.02999115, -0.03063263,\n",
       "               0.05533049,  0.00204724,  0.05656223, -0.0639796 , -0.03545255,\n",
       "              -0.00276415,  0.02514386,  0.04935722,  0.00605091, -0.03143549,\n",
       "              -0.00158765, -0.03665853,  0.04638236,  0.00902721,  0.01968405,\n",
       "               0.00243805,  0.00978717, -0.03330922,  0.02382509,  0.00086732,\n",
       "              -0.02606624,  0.02070943,  0.03870872,  0.02204426,  0.04542979,\n",
       "               0.00682067, -0.02512805,  0.05783265, -0.00371252,  0.00666095,\n",
       "               0.01320438, -0.00208049,  0.00675935,  0.00715951,  0.00385878,\n",
       "              -0.05259838,  0.01639838, -0.01621319,  0.00412578, -0.00221524,\n",
       "               0.02789529, -0.01598043, -0.00846368,  0.01981696, -0.00124732,\n",
       "              -0.00809956,  0.04344982, -0.02502082,  0.00632993, -0.00091589,\n",
       "              -0.02161815, -0.00359741, -0.00107458, -0.00828745,  0.0040868 ,\n",
       "               0.03251914,  0.03696471,  0.00074487,  0.0151004 , -0.06999008,\n",
       "              -0.0123373 ,  0.05268129,  0.02395734,  0.00581966,  0.05624247,\n",
       "              -0.0297918 , -0.03916995,  0.00592069, -0.03823928,  0.0046241 ,\n",
       "               0.02045998, -0.04904179,  0.0430856 ,  0.04140264, -0.00108995,\n",
       "              -0.05502194, -0.0027567 , -0.02324705,  0.00121699, -0.00931554,\n",
       "              -0.02073036,  0.03746887, -0.01115424,  0.03399436, -0.02986851,\n",
       "              -0.00147518,  0.05533474,  0.04201946, -0.00819473,  0.00528627,\n",
       "               0.01483401, -0.01063515,  0.00566503, -0.00766787, -0.04660505,\n",
       "              -0.01723688, -0.04887557,  0.00505993,  0.00456137,  0.03888442,\n",
       "               0.03452583, -0.00370601, -0.01795767,  0.03021795, -0.02494728,\n",
       "              -0.00254636,  0.01062802, -0.02734358,  0.01873938,  0.00097231,\n",
       "               0.00133812, -0.04880209,  0.02613366, -0.0122804 , -0.03336433,\n",
       "              -0.03237604, -0.02839086, -0.00057219, -0.00137142,  0.04291154,\n",
       "               0.0020912 ,  0.00835656,  0.01448439,  0.02122501, -0.01344912,\n",
       "               0.04527164, -0.00830088,  0.03069422, -0.0096791 ,  0.00829873,\n",
       "               0.00509274,  0.00329124,  0.01920296,  0.02051787, -0.01018954,\n",
       "               0.04799238, -0.01257391, -0.01050922, -0.00689088, -0.02162019,\n",
       "              -0.02049796, -0.00245357, -0.02056651, -0.00649156, -0.02173114,\n",
       "              -0.03070027,  0.04392482,  0.01743334, -0.01708619,  0.00737806,\n",
       "              -0.05442359,  0.02653948, -0.03222995, -0.00322259,  0.05352082,\n",
       "              -0.01251133, -0.01408734, -0.00107056, -0.04850753, -0.0354737 ,\n",
       "              -0.01317293,  0.06934159, -0.01880545, -0.02281253, -0.00233244,\n",
       "              -0.01904199, -0.0228217 ,  0.01870647, -0.01364159, -0.00976094,\n",
       "               0.0152913 , -0.02114746, -0.03707865,  0.00690606,  0.00531275,\n",
       "               0.01998116,  0.02366337, -0.0187038 ,  0.00703214, -0.01022132,\n",
       "               0.02232296, -0.02024432, -0.00336058, -0.01424939, -0.03149728,\n",
       "              -0.0011109 ,  0.02797857, -0.02103743,  0.00139461, -0.05069781,\n",
       "              -0.0047641 , -0.02090313,  0.00963995, -0.03205497, -0.01973834,\n",
       "               0.02590883,  0.06771453,  0.0270036 , -0.00011441, -0.03038766,\n",
       "               0.05474137,  0.03874378,  0.01301598, -0.00688852, -0.02324214,\n",
       "              -0.02257152,  0.00416228, -0.01527437,  0.0172855 ,  0.01417849,\n",
       "              -0.01273711,  0.00790054, -0.02543175,  0.00388152,  0.00077441,\n",
       "              -0.00459162,  0.01940886, -0.02470431,  0.01196687,  0.00959286,\n",
       "               0.04574155,  0.01625556,  0.01085254,  0.02185477, -0.03700071,\n",
       "               0.02466356, -0.01043054, -0.00325863,  0.00886129, -0.0243982 ,\n",
       "              -0.02112605,  0.0404127 ,  0.03956339, -0.01920092, -0.06006776,\n",
       "               0.01601661,  0.00068093,  0.06735326,  0.03996886,  0.03146255,\n",
       "               0.01282002,  0.02863304,  0.03521091, -0.00603881, -0.04776308,\n",
       "              -0.00767809, -0.01188389,  0.0067863 , -0.04228891,  0.01829485,\n",
       "               0.03200997, -0.03907121, -0.01221243, -0.02788043, -0.03517834,\n",
       "              -0.02205989,  0.06500459,  0.05196005,  0.03148135,  0.06259974,\n",
       "              -0.00183389, -0.0103803 , -0.02339416, -0.03562037,  0.02880812,\n",
       "              -0.04699309,  0.01214374, -0.05258585,  0.01600312,  0.00242702,\n",
       "               0.02267981,  0.00207669, -0.03172014,  0.02207547, -0.02694374,\n",
       "              -0.0360252 ,  0.03513882, -0.05705587, -0.00156832, -0.0510607 ,\n",
       "              -0.04640865, -0.01753354,  0.0070778 ,  0.00543538,  0.01293637],\n",
       "             dtype=float32)                                                    ,\n",
       "       array([-0.00560932,  0.04278646, -0.01030303,  0.02543663, -0.02129694,\n",
       "               0.02438986, -0.00685581, -0.03131828,  0.02753807,  0.04197059,\n",
       "              -0.0316346 , -0.04485256, -0.02696002, -0.01724504, -0.02803972,\n",
       "               0.02394703, -0.0370887 ,  0.04151346, -0.00689523, -0.0243599 ,\n",
       "               0.00434438, -0.00624342, -0.00215719, -0.00234999,  0.00177014,\n",
       "              -0.00258427, -0.06464155,  0.0326689 , -0.00965022, -0.01930008,\n",
       "              -0.02135422, -0.01739438, -0.02719497,  0.01996507, -0.05241309,\n",
       "              -0.00852726,  0.00615416,  0.01612033,  0.01888056,  0.02667601,\n",
       "               0.0098852 , -0.02326874,  0.02317492,  0.00414239,  0.00888761,\n",
       "              -0.01411063,  0.01267261, -0.00330115,  0.01407016,  0.01696183,\n",
       "              -0.03142697,  0.00779571,  0.0091894 , -0.01200075,  0.01760568,\n",
       "               0.0136904 , -0.01624885, -0.06941624,  0.02012708, -0.02931053,\n",
       "               0.00625411,  0.03682361, -0.01210037,  0.00135963, -0.0310551 ,\n",
       "              -0.05164411, -0.00849271, -0.00624297,  0.00504128,  0.04344454,\n",
       "               0.02109177,  0.02250941,  0.01360476, -0.01210908, -0.01471989,\n",
       "              -0.00675685,  0.01665291,  0.02595924, -0.00821334,  0.0277274 ,\n",
       "              -0.00206297, -0.0159541 , -0.01236299, -0.01335496, -0.02600599,\n",
       "              -0.02291846, -0.02065087,  0.02481669,  0.01407392,  0.0130085 ,\n",
       "               0.00683412, -0.00512174, -0.0260368 , -0.04692699,  0.00923485,\n",
       "               0.01029639,  0.02078754,  0.02016401,  0.02128472, -0.00439815,\n",
       "               0.01046499, -0.02673042,  0.00236245, -0.00202339,  0.01138066,\n",
       "               0.01537327, -0.04144048, -0.01103341, -0.00075418, -0.00375093,\n",
       "              -0.021902  ,  0.02205125,  0.04100358,  0.00699962,  0.01280847,\n",
       "               0.00865563,  0.00337372, -0.02776738,  0.06370697,  0.02409856,\n",
       "              -0.00132103, -0.03465171, -0.038031  , -0.01057709,  0.00614245,\n",
       "               0.00342286, -0.01545906, -0.01912561,  0.01201192,  0.00652823,\n",
       "               0.00151997,  0.01400816, -0.0152343 ,  0.01957933, -0.00297676,\n",
       "               0.00167313,  0.0151459 , -0.00869945, -0.00461041,  0.02417419,\n",
       "               0.02546143, -0.06309472, -0.01769307,  0.024646  ,  0.01940071,\n",
       "               0.0087731 , -0.03273869, -0.02274632, -0.03734059,  0.00950077,\n",
       "               0.04599807, -0.04775561, -0.0174137 ,  0.00847029, -0.0227921 ,\n",
       "              -0.03035981, -0.02040926,  0.01789277, -0.01494383, -0.01479001,\n",
       "               0.01108898,  0.01678151,  0.02056678, -0.0146834 , -0.02886855,\n",
       "              -0.05201207,  0.05824854, -0.01821991, -0.04227156,  0.05495071,\n",
       "              -0.01635003,  0.01229204,  0.00873017, -0.03047983, -0.00981452,\n",
       "              -0.00125298, -0.00722409, -0.03547164, -0.01000721, -0.0330216 ,\n",
       "              -0.01761087, -0.03600143,  0.02157653, -0.01172685, -0.0152138 ,\n",
       "              -0.01384698,  0.00790226, -0.00394218,  0.01833451,  0.00834583,\n",
       "               0.02193492, -0.02805784,  0.00607845,  0.00404855, -0.01732592,\n",
       "               0.0262054 ,  0.00224875, -0.03823633, -0.00099789, -0.02274919,\n",
       "               0.02118736,  0.00047162, -0.03143261, -0.01570453, -0.00348703,\n",
       "              -0.01492876, -0.00749956,  0.01086683, -0.01019575, -0.02978603,\n",
       "              -0.02742082,  0.01687947, -0.02138087, -0.00114383, -0.04553661,\n",
       "               0.02177138,  0.02554674, -0.00890488, -0.0206273 , -0.02136945,\n",
       "              -0.00619778, -0.01204091,  0.01815456, -0.01447834, -0.01318055,\n",
       "               0.03429016,  0.0018289 ,  0.03733789, -0.00088254, -0.01120967,\n",
       "               0.01030453, -0.01916674, -0.02241401,  0.0137985 ,  0.03431302,\n",
       "               0.01440551,  0.02211953, -0.00020145,  0.03049937,  0.00095242,\n",
       "               0.00148274, -0.00934165, -0.0141549 , -0.02304147,  0.0034273 ,\n",
       "               0.02096968,  0.01423032,  0.0658799 , -0.01140515, -0.01494475,\n",
       "              -0.01727407,  0.00471377,  0.03436898,  0.0262637 , -0.01352261,\n",
       "              -0.0160781 , -0.02171613, -0.02026712, -0.01282555, -0.03785266,\n",
       "               0.03433597, -0.00252471,  0.00530842,  0.01968793, -0.01261915,\n",
       "               0.01419575, -0.03266919, -0.01794935, -0.00834852,  0.00483058,\n",
       "              -0.00449456,  0.02986116,  0.02715857, -0.0023329 ,  0.01904705,\n",
       "               0.00547148, -0.04588175, -0.05413467, -0.01624028,  0.01840642,\n",
       "              -0.01264292,  0.00606432,  0.00497084, -0.00183021,  0.02331987,\n",
       "               0.01833198, -0.05234776, -0.01738726, -0.00841321, -0.01614896,\n",
       "              -0.01198586,  0.03156499, -0.0100371 ,  0.03362066, -0.01537057,\n",
       "              -0.05906692,  0.00328799, -0.01687846, -0.00317133,  0.04468398],\n",
       "             dtype=float32)                                                    ],\n",
       "      dtype=object)"
      ]
     },
     "execution_count": 45,
     "metadata": {},
     "output_type": "execute_result"
    }
   ],
   "source": [
    "test_df[\"vector\"].to_numpy()"
   ]
  },
  {
   "cell_type": "code",
   "execution_count": 46,
   "metadata": {},
   "outputs": [],
   "source": [
    "test_x = np.stack(test_df['vector'].to_numpy())"
   ]
  },
  {
   "cell_type": "code",
   "execution_count": 49,
   "metadata": {},
   "outputs": [
    {
     "data": {
      "text/plain": [
       "(63928, 300)"
      ]
     },
     "execution_count": 49,
     "metadata": {},
     "output_type": "execute_result"
    }
   ],
   "source": [
    "test_x.shape"
   ]
  },
  {
   "cell_type": "code",
   "execution_count": 50,
   "metadata": {},
   "outputs": [],
   "source": [
    "test_x = np.expand_dims(test_x, -1)"
   ]
  },
  {
   "cell_type": "code",
   "execution_count": 51,
   "metadata": {},
   "outputs": [
    {
     "data": {
      "text/plain": [
       "(63928, 300, 1)"
      ]
     },
     "execution_count": 51,
     "metadata": {},
     "output_type": "execute_result"
    }
   ],
   "source": [
    "test_x.shape"
   ]
  },
  {
   "cell_type": "code",
   "execution_count": 54,
   "metadata": {},
   "outputs": [],
   "source": [
    "test_y = test_df[test_df.columns[2:8]].values"
   ]
  },
  {
   "cell_type": "code",
   "execution_count": 55,
   "metadata": {},
   "outputs": [
    {
     "data": {
      "text/plain": [
       "(63928, 6)"
      ]
     },
     "execution_count": 55,
     "metadata": {},
     "output_type": "execute_result"
    }
   ],
   "source": [
    "test_y.shape"
   ]
  },
  {
   "cell_type": "code",
   "execution_count": 56,
   "metadata": {},
   "outputs": [],
   "source": [
    "test_tf = tf.data.Dataset.from_tensor_slices((test_x, test_y))\n",
    "test_tf = test_tf.cache().shuffle(1000).batch(BATCH_SIZE).prefetch(buffer_size=tf.data.AUTOTUNE)"
   ]
  },
  {
   "cell_type": "code",
   "execution_count": 57,
   "metadata": {},
   "outputs": [
    {
     "name": "stderr",
     "output_type": "stream",
     "text": [
      "2023-07-04 17:35:21.535141: I tensorflow/core/common_runtime/executor.cc:1197] [/device:CPU:0] (DEBUG INFO) Executor start aborting (this does not indicate an error and you can ignore this message): INVALID_ARGUMENT: You must feed a value for placeholder tensor 'Placeholder/_1' with dtype int64 and shape [63928,6]\n",
      "\t [[{{node Placeholder/_1}}]]\n",
      "2023-07-04 17:35:21.535456: I tensorflow/core/common_runtime/executor.cc:1197] [/device:CPU:0] (DEBUG INFO) Executor start aborting (this does not indicate an error and you can ignore this message): INVALID_ARGUMENT: You must feed a value for placeholder tensor 'Placeholder/_0' with dtype float and shape [63928,300,1]\n",
      "\t [[{{node Placeholder/_0}}]]\n"
     ]
    },
    {
     "name": "stdout",
     "output_type": "stream",
     "text": [
      "1998/1998 [==============================] - 44s 22ms/step - loss: 0.0996 - accuracy: 0.9976\n"
     ]
    },
    {
     "data": {
      "text/plain": [
       "[0.09959534555673599, 0.9976066946983337]"
      ]
     },
     "execution_count": 57,
     "metadata": {},
     "output_type": "execute_result"
    }
   ],
   "source": [
    "model.evaluate(test_tf)"
   ]
  },
  {
   "cell_type": "code",
   "execution_count": null,
   "metadata": {},
   "outputs": [],
   "source": [
    "model = models.load_model('model.h5')"
   ]
  },
  {
   "cell_type": "code",
   "execution_count": 20,
   "metadata": {},
   "outputs": [],
   "source": [
    "def predict_toxicity(text):\n",
    "    array = preprocess(text)\n",
    "    array = np.expand_dims(array, -1)\n",
    "    return model.predict(np.expand_dims(array, 0))"
   ]
  },
  {
   "cell_type": "code",
   "execution_count": null,
   "metadata": {},
   "outputs": [],
   "source": []
  }
 ],
 "metadata": {
  "kernelspec": {
   "display_name": "my_env",
   "language": "python",
   "name": "my_env"
  },
  "language_info": {
   "codemirror_mode": {
    "name": "ipython",
    "version": 3
   },
   "file_extension": ".py",
   "mimetype": "text/x-python",
   "name": "python",
   "nbconvert_exporter": "python",
   "pygments_lexer": "ipython3",
   "version": "3.10.11"
  }
 },
 "nbformat": 4,
 "nbformat_minor": 4
}
